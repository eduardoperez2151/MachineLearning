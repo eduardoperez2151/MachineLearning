{
 "cells": [
  {
   "cell_type": "markdown",
   "metadata": {},
   "source": [
    "# # Breast Cancer\n",
    " ---\n",
    " \n",
    " ### Objetivo \n",
    "El objetivo del problema se basa en clasificar si una célula es o no cancerígena en base a 10 atributos de la misma. \n"
   ]
  },
  {
   "cell_type": "code",
   "execution_count": 68,
   "metadata": {},
   "outputs": [],
   "source": [
    "#Importamos las librerías a utilizar\n",
    "import numpy as np\n",
    "import pandas as pd"
   ]
  },
  {
   "cell_type": "code",
   "execution_count": 69,
   "metadata": {},
   "outputs": [
    {
     "name": "stdout",
     "output_type": "stream",
     "text": [
      "Training data instances count:\t 698\n"
     ]
    }
   ],
   "source": [
    "ds=pd.read_csv(\"../data/breast-cancer-wisconsin.data\")\n",
    "\n",
    "#Revisamos cuantas instancia tenemos\n",
    "print(\"Training data instances count:\\t\",ds.shape[0])"
   ]
  },
  {
   "cell_type": "code",
   "execution_count": 70,
   "metadata": {},
   "outputs": [
    {
     "data": {
      "text/html": [
       "<div>\n",
       "<style scoped>\n",
       "    .dataframe tbody tr th:only-of-type {\n",
       "        vertical-align: middle;\n",
       "    }\n",
       "\n",
       "    .dataframe tbody tr th {\n",
       "        vertical-align: top;\n",
       "    }\n",
       "\n",
       "    .dataframe thead th {\n",
       "        text-align: right;\n",
       "    }\n",
       "</style>\n",
       "<table border=\"1\" class=\"dataframe\">\n",
       "  <thead>\n",
       "    <tr style=\"text-align: right;\">\n",
       "      <th></th>\n",
       "      <th>1000025</th>\n",
       "      <th>5</th>\n",
       "      <th>1</th>\n",
       "      <th>1.1</th>\n",
       "      <th>1.2</th>\n",
       "      <th>2</th>\n",
       "      <th>1.3</th>\n",
       "      <th>3</th>\n",
       "      <th>1.4</th>\n",
       "      <th>1.5</th>\n",
       "      <th>2.1</th>\n",
       "    </tr>\n",
       "  </thead>\n",
       "  <tbody>\n",
       "    <tr>\n",
       "      <th>0</th>\n",
       "      <td>1002945</td>\n",
       "      <td>5</td>\n",
       "      <td>4</td>\n",
       "      <td>4</td>\n",
       "      <td>5</td>\n",
       "      <td>7</td>\n",
       "      <td>10</td>\n",
       "      <td>3</td>\n",
       "      <td>2</td>\n",
       "      <td>1</td>\n",
       "      <td>2</td>\n",
       "    </tr>\n",
       "    <tr>\n",
       "      <th>1</th>\n",
       "      <td>1015425</td>\n",
       "      <td>3</td>\n",
       "      <td>1</td>\n",
       "      <td>1</td>\n",
       "      <td>1</td>\n",
       "      <td>2</td>\n",
       "      <td>2</td>\n",
       "      <td>3</td>\n",
       "      <td>1</td>\n",
       "      <td>1</td>\n",
       "      <td>2</td>\n",
       "    </tr>\n",
       "    <tr>\n",
       "      <th>2</th>\n",
       "      <td>1016277</td>\n",
       "      <td>6</td>\n",
       "      <td>8</td>\n",
       "      <td>8</td>\n",
       "      <td>1</td>\n",
       "      <td>3</td>\n",
       "      <td>4</td>\n",
       "      <td>3</td>\n",
       "      <td>7</td>\n",
       "      <td>1</td>\n",
       "      <td>2</td>\n",
       "    </tr>\n",
       "    <tr>\n",
       "      <th>3</th>\n",
       "      <td>1017023</td>\n",
       "      <td>4</td>\n",
       "      <td>1</td>\n",
       "      <td>1</td>\n",
       "      <td>3</td>\n",
       "      <td>2</td>\n",
       "      <td>1</td>\n",
       "      <td>3</td>\n",
       "      <td>1</td>\n",
       "      <td>1</td>\n",
       "      <td>2</td>\n",
       "    </tr>\n",
       "    <tr>\n",
       "      <th>4</th>\n",
       "      <td>1017122</td>\n",
       "      <td>8</td>\n",
       "      <td>10</td>\n",
       "      <td>10</td>\n",
       "      <td>8</td>\n",
       "      <td>7</td>\n",
       "      <td>10</td>\n",
       "      <td>9</td>\n",
       "      <td>7</td>\n",
       "      <td>1</td>\n",
       "      <td>4</td>\n",
       "    </tr>\n",
       "  </tbody>\n",
       "</table>\n",
       "</div>"
      ],
      "text/plain": [
       "   1000025  5   1  1.1  1.2  2 1.3  3  1.4  1.5  2.1\n",
       "0  1002945  5   4    4    5  7  10  3    2    1    2\n",
       "1  1015425  3   1    1    1  2   2  3    1    1    2\n",
       "2  1016277  6   8    8    1  3   4  3    7    1    2\n",
       "3  1017023  4   1    1    3  2   1  3    1    1    2\n",
       "4  1017122  8  10   10    8  7  10  9    7    1    4"
      ]
     },
     "execution_count": 70,
     "metadata": {},
     "output_type": "execute_result"
    }
   ],
   "source": [
    "#Revisamos las primeras diez instancias del nuestro dataset\n",
    "ds.head()"
   ]
  },
  {
   "cell_type": "markdown",
   "metadata": {},
   "source": [
    "Como podemos ver nuestro dataset no tiene los encabezados, para saber los encabezados que debemos agregar, debemos leer la documentación adjunta a los datos."
   ]
  },
  {
   "cell_type": "code",
   "execution_count": 71,
   "metadata": {},
   "outputs": [
    {
     "data": {
      "text/html": [
       "<div>\n",
       "<style scoped>\n",
       "    .dataframe tbody tr th:only-of-type {\n",
       "        vertical-align: middle;\n",
       "    }\n",
       "\n",
       "    .dataframe tbody tr th {\n",
       "        vertical-align: top;\n",
       "    }\n",
       "\n",
       "    .dataframe thead th {\n",
       "        text-align: right;\n",
       "    }\n",
       "</style>\n",
       "<table border=\"1\" class=\"dataframe\">\n",
       "  <thead>\n",
       "    <tr style=\"text-align: right;\">\n",
       "      <th></th>\n",
       "      <th>id</th>\n",
       "      <th>clump_thickness</th>\n",
       "      <th>uniformity_of_cell_size</th>\n",
       "      <th>uniformity_of_cell_shape</th>\n",
       "      <th>marginal_adhesion</th>\n",
       "      <th>single_epithelial_cell_size</th>\n",
       "      <th>bare_nuclei</th>\n",
       "      <th>bland_chromatin</th>\n",
       "      <th>normal_nucleoli</th>\n",
       "      <th>mitoses</th>\n",
       "      <th>class</th>\n",
       "    </tr>\n",
       "  </thead>\n",
       "  <tbody>\n",
       "    <tr>\n",
       "      <th>0</th>\n",
       "      <td>1002945</td>\n",
       "      <td>5</td>\n",
       "      <td>4</td>\n",
       "      <td>4</td>\n",
       "      <td>5</td>\n",
       "      <td>7</td>\n",
       "      <td>10</td>\n",
       "      <td>3</td>\n",
       "      <td>2</td>\n",
       "      <td>1</td>\n",
       "      <td>2</td>\n",
       "    </tr>\n",
       "    <tr>\n",
       "      <th>1</th>\n",
       "      <td>1015425</td>\n",
       "      <td>3</td>\n",
       "      <td>1</td>\n",
       "      <td>1</td>\n",
       "      <td>1</td>\n",
       "      <td>2</td>\n",
       "      <td>2</td>\n",
       "      <td>3</td>\n",
       "      <td>1</td>\n",
       "      <td>1</td>\n",
       "      <td>2</td>\n",
       "    </tr>\n",
       "    <tr>\n",
       "      <th>2</th>\n",
       "      <td>1016277</td>\n",
       "      <td>6</td>\n",
       "      <td>8</td>\n",
       "      <td>8</td>\n",
       "      <td>1</td>\n",
       "      <td>3</td>\n",
       "      <td>4</td>\n",
       "      <td>3</td>\n",
       "      <td>7</td>\n",
       "      <td>1</td>\n",
       "      <td>2</td>\n",
       "    </tr>\n",
       "    <tr>\n",
       "      <th>3</th>\n",
       "      <td>1017023</td>\n",
       "      <td>4</td>\n",
       "      <td>1</td>\n",
       "      <td>1</td>\n",
       "      <td>3</td>\n",
       "      <td>2</td>\n",
       "      <td>1</td>\n",
       "      <td>3</td>\n",
       "      <td>1</td>\n",
       "      <td>1</td>\n",
       "      <td>2</td>\n",
       "    </tr>\n",
       "    <tr>\n",
       "      <th>4</th>\n",
       "      <td>1017122</td>\n",
       "      <td>8</td>\n",
       "      <td>10</td>\n",
       "      <td>10</td>\n",
       "      <td>8</td>\n",
       "      <td>7</td>\n",
       "      <td>10</td>\n",
       "      <td>9</td>\n",
       "      <td>7</td>\n",
       "      <td>1</td>\n",
       "      <td>4</td>\n",
       "    </tr>\n",
       "  </tbody>\n",
       "</table>\n",
       "</div>"
      ],
      "text/plain": [
       "        id  clump_thickness  uniformity_of_cell_size  \\\n",
       "0  1002945                5                        4   \n",
       "1  1015425                3                        1   \n",
       "2  1016277                6                        8   \n",
       "3  1017023                4                        1   \n",
       "4  1017122                8                       10   \n",
       "\n",
       "   uniformity_of_cell_shape  marginal_adhesion  single_epithelial_cell_size  \\\n",
       "0                         4                  5                            7   \n",
       "1                         1                  1                            2   \n",
       "2                         8                  1                            3   \n",
       "3                         1                  3                            2   \n",
       "4                        10                  8                            7   \n",
       "\n",
       "  bare_nuclei  bland_chromatin  normal_nucleoli  mitoses  class  \n",
       "0          10                3                2        1      2  \n",
       "1           2                3                1        1      2  \n",
       "2           4                3                7        1      2  \n",
       "3           1                3                1        1      2  \n",
       "4          10                9                7        1      4  "
      ]
     },
     "execution_count": 71,
     "metadata": {},
     "output_type": "execute_result"
    }
   ],
   "source": [
    "#Estos segun la documentación del Dataset son los headers que debemos utilizar\n",
    "headers=['id', 'clump_thickness','uniformity_of_cell_size','uniformity_of_cell_shape','marginal_adhesion','single_epithelial_cell_size','bare_nuclei','bland_chromatin','normal_nucleoli','mitoses','class']\n",
    "\n",
    "#agregamos los headers al dataset\n",
    "ds.columns=headers\n",
    "\n",
    "#chequeamos que se hayan agregado correctamente \n",
    "ds.head()"
   ]
  },
  {
   "cell_type": "code",
   "execution_count": 72,
   "metadata": {
    "scrolled": true
   },
   "outputs": [
    {
     "data": {
      "text/plain": [
       "id                              int64\n",
       "clump_thickness                 int64\n",
       "uniformity_of_cell_size         int64\n",
       "uniformity_of_cell_shape        int64\n",
       "marginal_adhesion               int64\n",
       "single_epithelial_cell_size     int64\n",
       "bare_nuclei                    object\n",
       "bland_chromatin                 int64\n",
       "normal_nucleoli                 int64\n",
       "mitoses                         int64\n",
       "class                           int64\n",
       "dtype: object"
      ]
     },
     "execution_count": 72,
     "metadata": {},
     "output_type": "execute_result"
    }
   ],
   "source": [
    "#Ahora vamos a revisar los tipo de datos de nuestro dataset\n",
    "ds.dtypes"
   ]
  },
  {
   "cell_type": "markdown",
   "metadata": {},
   "source": [
    "## Missing Values\n",
    "---"
   ]
  },
  {
   "cell_type": "code",
   "execution_count": 73,
   "metadata": {},
   "outputs": [
    {
     "data": {
      "text/html": [
       "<div>\n",
       "<style scoped>\n",
       "    .dataframe tbody tr th:only-of-type {\n",
       "        vertical-align: middle;\n",
       "    }\n",
       "\n",
       "    .dataframe tbody tr th {\n",
       "        vertical-align: top;\n",
       "    }\n",
       "\n",
       "    .dataframe thead th {\n",
       "        text-align: right;\n",
       "    }\n",
       "</style>\n",
       "<table border=\"1\" class=\"dataframe\">\n",
       "  <thead>\n",
       "    <tr style=\"text-align: right;\">\n",
       "      <th></th>\n",
       "      <th>clump_thickness</th>\n",
       "      <th>uniformity_of_cell_size</th>\n",
       "      <th>uniformity_of_cell_shape</th>\n",
       "      <th>marginal_adhesion</th>\n",
       "      <th>single_epithelial_cell_size</th>\n",
       "      <th>bare_nuclei</th>\n",
       "      <th>bland_chromatin</th>\n",
       "      <th>normal_nucleoli</th>\n",
       "      <th>mitoses</th>\n",
       "      <th>class</th>\n",
       "    </tr>\n",
       "  </thead>\n",
       "  <tbody>\n",
       "    <tr>\n",
       "      <th>0</th>\n",
       "      <td>5</td>\n",
       "      <td>4</td>\n",
       "      <td>4</td>\n",
       "      <td>5</td>\n",
       "      <td>7</td>\n",
       "      <td>10</td>\n",
       "      <td>3</td>\n",
       "      <td>2</td>\n",
       "      <td>1</td>\n",
       "      <td>2</td>\n",
       "    </tr>\n",
       "    <tr>\n",
       "      <th>1</th>\n",
       "      <td>3</td>\n",
       "      <td>1</td>\n",
       "      <td>1</td>\n",
       "      <td>1</td>\n",
       "      <td>2</td>\n",
       "      <td>2</td>\n",
       "      <td>3</td>\n",
       "      <td>1</td>\n",
       "      <td>1</td>\n",
       "      <td>2</td>\n",
       "    </tr>\n",
       "    <tr>\n",
       "      <th>2</th>\n",
       "      <td>6</td>\n",
       "      <td>8</td>\n",
       "      <td>8</td>\n",
       "      <td>1</td>\n",
       "      <td>3</td>\n",
       "      <td>4</td>\n",
       "      <td>3</td>\n",
       "      <td>7</td>\n",
       "      <td>1</td>\n",
       "      <td>2</td>\n",
       "    </tr>\n",
       "    <tr>\n",
       "      <th>3</th>\n",
       "      <td>4</td>\n",
       "      <td>1</td>\n",
       "      <td>1</td>\n",
       "      <td>3</td>\n",
       "      <td>2</td>\n",
       "      <td>1</td>\n",
       "      <td>3</td>\n",
       "      <td>1</td>\n",
       "      <td>1</td>\n",
       "      <td>2</td>\n",
       "    </tr>\n",
       "    <tr>\n",
       "      <th>4</th>\n",
       "      <td>8</td>\n",
       "      <td>10</td>\n",
       "      <td>10</td>\n",
       "      <td>8</td>\n",
       "      <td>7</td>\n",
       "      <td>10</td>\n",
       "      <td>9</td>\n",
       "      <td>7</td>\n",
       "      <td>1</td>\n",
       "      <td>4</td>\n",
       "    </tr>\n",
       "  </tbody>\n",
       "</table>\n",
       "</div>"
      ],
      "text/plain": [
       "   clump_thickness  uniformity_of_cell_size  uniformity_of_cell_shape  \\\n",
       "0                5                        4                         4   \n",
       "1                3                        1                         1   \n",
       "2                6                        8                         8   \n",
       "3                4                        1                         1   \n",
       "4                8                       10                        10   \n",
       "\n",
       "   marginal_adhesion  single_epithelial_cell_size bare_nuclei  \\\n",
       "0                  5                            7          10   \n",
       "1                  1                            2           2   \n",
       "2                  1                            3           4   \n",
       "3                  3                            2           1   \n",
       "4                  8                            7          10   \n",
       "\n",
       "   bland_chromatin  normal_nucleoli  mitoses  class  \n",
       "0                3                2        1      2  \n",
       "1                3                1        1      2  \n",
       "2                3                7        1      2  \n",
       "3                3                1        1      2  \n",
       "4                9                7        1      4  "
      ]
     },
     "execution_count": 73,
     "metadata": {},
     "output_type": "execute_result"
    }
   ],
   "source": [
    "#para el problema, la columna con los identificadores (id) es irrrelevante por lo que\n",
    "#vamos a eliminarla del dataset \n",
    "ds=ds.drop(['id'] , axis=1)\n",
    "\n",
    "#Chequeamos que efectivamente hayamos eliminado la columna\n",
    "ds.head()"
   ]
  },
  {
   "cell_type": "code",
   "execution_count": 74,
   "metadata": {},
   "outputs": [
    {
     "name": "stdout",
     "output_type": "stream",
     "text": [
      "\n",
      "#### clump_thickness ####\n",
      "[ 5  3  6  4  8  1  2  7 10  9]\n",
      "\n",
      "#### uniformity_of_cell_size ####\n",
      "[ 4  1  8 10  2  3  7  5  6  9]\n",
      "\n",
      "#### uniformity_of_cell_shape ####\n",
      "[ 4  1  8 10  2  3  5  6  7  9]\n",
      "\n",
      "#### marginal_adhesion ####\n",
      "[ 5  1  3  8 10  4  6  2  9  7]\n",
      "\n",
      "#### single_epithelial_cell_size ####\n",
      "[ 7  2  3  1  6  4  5  8 10  9]\n",
      "\n",
      "#### bare_nuclei ####\n",
      "['10' '2' '4' '1' '3' '9' '7' '?' '5' '8' '6']\n",
      "\n",
      "#### bland_chromatin ####\n",
      "[ 3  9  1  2  4  5  7  8  6 10]\n",
      "\n",
      "#### normal_nucleoli ####\n",
      "[ 2  1  7  4  5  3 10  6  9  8]\n",
      "\n",
      "#### mitoses ####\n",
      "[ 1  5  4  2  3  7 10  8  6]\n",
      "\n",
      "#### class ####\n",
      "[2 4]\n"
     ]
    }
   ],
   "source": [
    "#Creamos una funcion para imprimir ls diferentes valores que toman nuestras columnas\n",
    "def unique_value(dataset):\n",
    "    for column in dataset:\n",
    "        print( \"\\n#### %s ####\" % dataset[column].name)\n",
    "        print(dataset[column].unique())\n",
    "\n",
    "##        \n",
    "unique_value(ds)"
   ]
  },
  {
   "cell_type": "markdown",
   "metadata": {},
   "source": [
    "Como podemos ver todo nuestros atributos son numéricos a excepción del atributo **bare_nuclei**, además vemos que en este atributo tenemos atributos faltantes marcado con el carácter **\"?\"**, como nuestro dataset es pequeño no estamos en condiciones de eliminar ninguna instancia por lo que vamos a imputar valores."
   ]
  },
  {
   "cell_type": "code",
   "execution_count": 75,
   "metadata": {},
   "outputs": [
    {
     "data": {
      "text/plain": [
       "clump_thickness                 0\n",
       "uniformity_of_cell_size         0\n",
       "uniformity_of_cell_shape        0\n",
       "marginal_adhesion               0\n",
       "single_epithelial_cell_size     0\n",
       "bare_nuclei                    16\n",
       "bland_chromatin                 0\n",
       "normal_nucleoli                 0\n",
       "mitoses                         0\n",
       "class                           0\n",
       "dtype: int64"
      ]
     },
     "execution_count": 75,
     "metadata": {},
     "output_type": "execute_result"
    }
   ],
   "source": [
    "#reemplazamos los valores \"?\" con el un NaN de numpy, para luego contar los mismos\n",
    "ds=ds.replace('?',value=np.nan)\n",
    "ds.isna().sum()"
   ]
  },
  {
   "cell_type": "markdown",
   "metadata": {},
   "source": [
    "Como podemos ver tenemos 16 instancias cuyo atributo **\"bare_nuclei\"** no tiene valor."
   ]
  },
  {
   "cell_type": "code",
   "execution_count": 76,
   "metadata": {},
   "outputs": [
    {
     "data": {
      "text/html": [
       "<div>\n",
       "<style scoped>\n",
       "    .dataframe tbody tr th:only-of-type {\n",
       "        vertical-align: middle;\n",
       "    }\n",
       "\n",
       "    .dataframe tbody tr th {\n",
       "        vertical-align: top;\n",
       "    }\n",
       "\n",
       "    .dataframe thead th {\n",
       "        text-align: right;\n",
       "    }\n",
       "</style>\n",
       "<table border=\"1\" class=\"dataframe\">\n",
       "  <thead>\n",
       "    <tr style=\"text-align: right;\">\n",
       "      <th></th>\n",
       "      <th>clump_thickness</th>\n",
       "      <th>uniformity_of_cell_size</th>\n",
       "      <th>uniformity_of_cell_shape</th>\n",
       "      <th>marginal_adhesion</th>\n",
       "      <th>single_epithelial_cell_size</th>\n",
       "      <th>bare_nuclei</th>\n",
       "      <th>bland_chromatin</th>\n",
       "      <th>normal_nucleoli</th>\n",
       "      <th>mitoses</th>\n",
       "      <th>class</th>\n",
       "    </tr>\n",
       "  </thead>\n",
       "  <tbody>\n",
       "    <tr>\n",
       "      <th>0</th>\n",
       "      <td>5.0</td>\n",
       "      <td>4.0</td>\n",
       "      <td>4.0</td>\n",
       "      <td>5.0</td>\n",
       "      <td>7.0</td>\n",
       "      <td>10.0</td>\n",
       "      <td>3.0</td>\n",
       "      <td>2.0</td>\n",
       "      <td>1.0</td>\n",
       "      <td>2.0</td>\n",
       "    </tr>\n",
       "    <tr>\n",
       "      <th>1</th>\n",
       "      <td>3.0</td>\n",
       "      <td>1.0</td>\n",
       "      <td>1.0</td>\n",
       "      <td>1.0</td>\n",
       "      <td>2.0</td>\n",
       "      <td>2.0</td>\n",
       "      <td>3.0</td>\n",
       "      <td>1.0</td>\n",
       "      <td>1.0</td>\n",
       "      <td>2.0</td>\n",
       "    </tr>\n",
       "    <tr>\n",
       "      <th>2</th>\n",
       "      <td>6.0</td>\n",
       "      <td>8.0</td>\n",
       "      <td>8.0</td>\n",
       "      <td>1.0</td>\n",
       "      <td>3.0</td>\n",
       "      <td>4.0</td>\n",
       "      <td>3.0</td>\n",
       "      <td>7.0</td>\n",
       "      <td>1.0</td>\n",
       "      <td>2.0</td>\n",
       "    </tr>\n",
       "    <tr>\n",
       "      <th>3</th>\n",
       "      <td>4.0</td>\n",
       "      <td>1.0</td>\n",
       "      <td>1.0</td>\n",
       "      <td>3.0</td>\n",
       "      <td>2.0</td>\n",
       "      <td>1.0</td>\n",
       "      <td>3.0</td>\n",
       "      <td>1.0</td>\n",
       "      <td>1.0</td>\n",
       "      <td>2.0</td>\n",
       "    </tr>\n",
       "    <tr>\n",
       "      <th>4</th>\n",
       "      <td>8.0</td>\n",
       "      <td>10.0</td>\n",
       "      <td>10.0</td>\n",
       "      <td>8.0</td>\n",
       "      <td>7.0</td>\n",
       "      <td>10.0</td>\n",
       "      <td>9.0</td>\n",
       "      <td>7.0</td>\n",
       "      <td>1.0</td>\n",
       "      <td>4.0</td>\n",
       "    </tr>\n",
       "  </tbody>\n",
       "</table>\n",
       "</div>"
      ],
      "text/plain": [
       "   clump_thickness  uniformity_of_cell_size  uniformity_of_cell_shape  \\\n",
       "0              5.0                      4.0                       4.0   \n",
       "1              3.0                      1.0                       1.0   \n",
       "2              6.0                      8.0                       8.0   \n",
       "3              4.0                      1.0                       1.0   \n",
       "4              8.0                     10.0                      10.0   \n",
       "\n",
       "   marginal_adhesion  single_epithelial_cell_size  bare_nuclei  \\\n",
       "0                5.0                          7.0         10.0   \n",
       "1                1.0                          2.0          2.0   \n",
       "2                1.0                          3.0          4.0   \n",
       "3                3.0                          2.0          1.0   \n",
       "4                8.0                          7.0         10.0   \n",
       "\n",
       "   bland_chromatin  normal_nucleoli  mitoses  class  \n",
       "0              3.0              2.0      1.0    2.0  \n",
       "1              3.0              1.0      1.0    2.0  \n",
       "2              3.0              7.0      1.0    2.0  \n",
       "3              3.0              1.0      1.0    2.0  \n",
       "4              9.0              7.0      1.0    4.0  "
      ]
     },
     "execution_count": 76,
     "metadata": {},
     "output_type": "execute_result"
    }
   ],
   "source": [
    "from sklearn.impute import SimpleImputer\n",
    "\n",
    "#Creamos nuestro objeto encargado de imputar los valores,\n",
    "#se va a utilizar como valor de imputación el valor promedio de la columna\n",
    "imputer = SimpleImputer(missing_values=np.nan, strategy='mean')\n",
    "\n",
    "#Ajustamos nuestro objeto a columna la cual vamis a imputar los valores\n",
    "ds_cleaning=pd.DataFrame(imputer.fit_transform(ds))\n",
    "\n",
    "#le agregamos los heades al nuevo dataset\n",
    "ds_cleaning.columns=headers[1:]\n",
    "\n",
    "#Verificamos el nuevo dataset\n",
    "ds_cleaning.head()"
   ]
  },
  {
   "cell_type": "code",
   "execution_count": 77,
   "metadata": {},
   "outputs": [
    {
     "data": {
      "text/plain": [
       "clump_thickness                0\n",
       "uniformity_of_cell_size        0\n",
       "uniformity_of_cell_shape       0\n",
       "marginal_adhesion              0\n",
       "single_epithelial_cell_size    0\n",
       "bare_nuclei                    0\n",
       "bland_chromatin                0\n",
       "normal_nucleoli                0\n",
       "mitoses                        0\n",
       "class                          0\n",
       "dtype: int64"
      ]
     },
     "execution_count": 77,
     "metadata": {},
     "output_type": "execute_result"
    }
   ],
   "source": [
    "#volvemos a chequear que no hayan quedado datos faltantes\n",
    "ds_cleaning=ds_cleaning.replace('?',value=np.nan)\n",
    "ds_cleaning.isna().sum()"
   ]
  },
  {
   "cell_type": "code",
   "execution_count": 78,
   "metadata": {},
   "outputs": [
    {
     "name": "stdout",
     "output_type": "stream",
     "text": [
      "\n",
      "#### clump_thickness ####\n",
      "[ 5.  3.  6.  4.  8.  1.  2.  7. 10.  9.]\n",
      "\n",
      "#### uniformity_of_cell_size ####\n",
      "[ 4.  1.  8. 10.  2.  3.  7.  5.  6.  9.]\n",
      "\n",
      "#### uniformity_of_cell_shape ####\n",
      "[ 4.  1.  8. 10.  2.  3.  5.  6.  7.  9.]\n",
      "\n",
      "#### marginal_adhesion ####\n",
      "[ 5.  1.  3.  8. 10.  4.  6.  2.  9.  7.]\n",
      "\n",
      "#### single_epithelial_cell_size ####\n",
      "[ 7.  2.  3.  1.  6.  4.  5.  8. 10.  9.]\n",
      "\n",
      "#### bare_nuclei ####\n",
      "[10.         2.         4.         1.         3.         9.\n",
      "  7.         3.5483871  5.         8.         6.       ]\n",
      "\n",
      "#### bland_chromatin ####\n",
      "[ 3.  9.  1.  2.  4.  5.  7.  8.  6. 10.]\n",
      "\n",
      "#### normal_nucleoli ####\n",
      "[ 2.  1.  7.  4.  5.  3. 10.  6.  9.  8.]\n",
      "\n",
      "#### mitoses ####\n",
      "[ 1.  5.  4.  2.  3.  7. 10.  8.  6.]\n",
      "\n",
      "#### class ####\n",
      "[2. 4.]\n"
     ]
    }
   ],
   "source": [
    "#Ahora imprimimos los diferentes que valores de nuestro dataset con los valores \n",
    "#que imputamos.\n",
    "unique_value(ds_cleaning)"
   ]
  },
  {
   "cell_type": "markdown",
   "metadata": {},
   "source": [
    "# Outliers\n",
    "---"
   ]
  },
  {
   "cell_type": "markdown",
   "metadata": {},
   "source": [
    " Vamos a ver la correlación entre los atributos y graficarla para ello utilizaremos la matriz de correlación y para graficarla utilizaremos la librería **Seaborn**"
   ]
  },
  {
   "cell_type": "code",
   "execution_count": 79,
   "metadata": {},
   "outputs": [
    {
     "data": {
      "image/png": "[encoded data removed]",
      "text/plain": [
       "<Figure size 432x288 with 2 Axes>"
      ]
     },
     "metadata": {},
     "output_type": "display_data"
    }
   ],
   "source": [
    "import matplotlib.pyplot as plt\n",
    "import seaborn as sns\n",
    "\n",
    "#Creamos una función para imprimir la matriz de correlacion.\n",
    "def printCorrelationMatrix(dataset):\n",
    "    correlation=ds.corr()\n",
    "    mask = np.zeros_like(correlation)\n",
    "    mask[np.triu_indices_from(mask)] = True\n",
    "    with sns.axes_style(\"white\"):\n",
    "        ax = sns.heatmap(correlation, mask=mask,cmap=\"Blues\",annot=True)\n",
    "        \n",
    "printCorrelationMatrix(ds_cleaning)"
   ]
  },
  {
   "cell_type": "markdown",
   "metadata": {},
   "source": [
    "Como podemos ver **uniformity_of_cell_size** y **uniformity_of_cell_shape** estan altamente correlacionados por lo que debemos eliminar unos de los dos, en este caso eliminaremos "
   ]
  },
  {
   "cell_type": "code",
   "execution_count": 80,
   "metadata": {},
   "outputs": [
    {
     "data": {
      "text/html": [
       "<div>\n",
       "<style scoped>\n",
       "    .dataframe tbody tr th:only-of-type {\n",
       "        vertical-align: middle;\n",
       "    }\n",
       "\n",
       "    .dataframe tbody tr th {\n",
       "        vertical-align: top;\n",
       "    }\n",
       "\n",
       "    .dataframe thead th {\n",
       "        text-align: right;\n",
       "    }\n",
       "</style>\n",
       "<table border=\"1\" class=\"dataframe\">\n",
       "  <thead>\n",
       "    <tr style=\"text-align: right;\">\n",
       "      <th></th>\n",
       "      <th>clump_thickness</th>\n",
       "      <th>uniformity_of_cell_shape</th>\n",
       "      <th>marginal_adhesion</th>\n",
       "      <th>single_epithelial_cell_size</th>\n",
       "      <th>bare_nuclei</th>\n",
       "      <th>bland_chromatin</th>\n",
       "      <th>normal_nucleoli</th>\n",
       "      <th>mitoses</th>\n",
       "      <th>class</th>\n",
       "    </tr>\n",
       "  </thead>\n",
       "  <tbody>\n",
       "    <tr>\n",
       "      <th>0</th>\n",
       "      <td>5.0</td>\n",
       "      <td>4.0</td>\n",
       "      <td>5.0</td>\n",
       "      <td>7.0</td>\n",
       "      <td>10.0</td>\n",
       "      <td>3.0</td>\n",
       "      <td>2.0</td>\n",
       "      <td>1.0</td>\n",
       "      <td>2.0</td>\n",
       "    </tr>\n",
       "    <tr>\n",
       "      <th>1</th>\n",
       "      <td>3.0</td>\n",
       "      <td>1.0</td>\n",
       "      <td>1.0</td>\n",
       "      <td>2.0</td>\n",
       "      <td>2.0</td>\n",
       "      <td>3.0</td>\n",
       "      <td>1.0</td>\n",
       "      <td>1.0</td>\n",
       "      <td>2.0</td>\n",
       "    </tr>\n",
       "    <tr>\n",
       "      <th>2</th>\n",
       "      <td>6.0</td>\n",
       "      <td>8.0</td>\n",
       "      <td>1.0</td>\n",
       "      <td>3.0</td>\n",
       "      <td>4.0</td>\n",
       "      <td>3.0</td>\n",
       "      <td>7.0</td>\n",
       "      <td>1.0</td>\n",
       "      <td>2.0</td>\n",
       "    </tr>\n",
       "    <tr>\n",
       "      <th>3</th>\n",
       "      <td>4.0</td>\n",
       "      <td>1.0</td>\n",
       "      <td>3.0</td>\n",
       "      <td>2.0</td>\n",
       "      <td>1.0</td>\n",
       "      <td>3.0</td>\n",
       "      <td>1.0</td>\n",
       "      <td>1.0</td>\n",
       "      <td>2.0</td>\n",
       "    </tr>\n",
       "    <tr>\n",
       "      <th>4</th>\n",
       "      <td>8.0</td>\n",
       "      <td>10.0</td>\n",
       "      <td>8.0</td>\n",
       "      <td>7.0</td>\n",
       "      <td>10.0</td>\n",
       "      <td>9.0</td>\n",
       "      <td>7.0</td>\n",
       "      <td>1.0</td>\n",
       "      <td>4.0</td>\n",
       "    </tr>\n",
       "  </tbody>\n",
       "</table>\n",
       "</div>"
      ],
      "text/plain": [
       "   clump_thickness  uniformity_of_cell_shape  marginal_adhesion  \\\n",
       "0              5.0                       4.0                5.0   \n",
       "1              3.0                       1.0                1.0   \n",
       "2              6.0                       8.0                1.0   \n",
       "3              4.0                       1.0                3.0   \n",
       "4              8.0                      10.0                8.0   \n",
       "\n",
       "   single_epithelial_cell_size  bare_nuclei  bland_chromatin  normal_nucleoli  \\\n",
       "0                          7.0         10.0              3.0              2.0   \n",
       "1                          2.0          2.0              3.0              1.0   \n",
       "2                          3.0          4.0              3.0              7.0   \n",
       "3                          2.0          1.0              3.0              1.0   \n",
       "4                          7.0         10.0              9.0              7.0   \n",
       "\n",
       "   mitoses  class  \n",
       "0      1.0    2.0  \n",
       "1      1.0    2.0  \n",
       "2      1.0    2.0  \n",
       "3      1.0    2.0  \n",
       "4      1.0    4.0  "
      ]
     },
     "execution_count": 80,
     "metadata": {},
     "output_type": "execute_result"
    }
   ],
   "source": [
    "ds_cleaning=ds_cleaning.drop(['uniformity_of_cell_size'] , axis=1)\n",
    "ds_cleaning.head()"
   ]
  },
  {
   "cell_type": "markdown",
   "metadata": {},
   "source": [
    "Ahora haremos los diagramas de Caja para cada uno de los atributos en busca de outliers."
   ]
  },
  {
   "cell_type": "code",
   "execution_count": 81,
   "metadata": {},
   "outputs": [],
   "source": [
    "def printBoxplot(dataset):\n",
    "    for column in dataset.columns:\n",
    "        print(\"\\n####### \"+str(column)+\" #######\")\n",
    "        sns.boxplot(dataset[column])\n",
    "        plt.show()"
   ]
  },
  {
   "cell_type": "code",
   "execution_count": 82,
   "metadata": {
    "scrolled": false
   },
   "outputs": [
    {
     "name": "stdout",
     "output_type": "stream",
     "text": [
      "\n",
      "####### clump_thickness #######\n"
     ]
    },
    {
     "data": {
      "image/png": "[encoded data removed]",
      "text/plain": [
       "<Figure size 432x288 with 1 Axes>"
      ]
     },
     "metadata": {
      "needs_background": "light"
     },
     "output_type": "display_data"
    },
    {
     "name": "stdout",
     "output_type": "stream",
     "text": [
      "\n",
      "####### uniformity_of_cell_shape #######\n"
     ]
    },
    {
     "data": {
      "image/png": "[encoded data removed]",
      "text/plain": [
       "<Figure size 432x288 with 1 Axes>"
      ]
     },
     "metadata": {
      "needs_background": "light"
     },
     "output_type": "display_data"
    },
    {
     "name": "stdout",
     "output_type": "stream",
     "text": [
      "\n",
      "####### marginal_adhesion #######\n"
     ]
    },
    {
     "data": {
      "image/png": "[encoded data removed]",
      "text/plain": [
       "<Figure size 432x288 with 1 Axes>"
      ]
     },
     "metadata": {
      "needs_background": "light"
     },
     "output_type": "display_data"
    },
    {
     "name": "stdout",
     "output_type": "stream",
     "text": [
      "\n",
      "####### single_epithelial_cell_size #######\n"
     ]
    },
    {
     "data": {
      "image/png": "[encoded data removed]",
      "text/plain": [
       "<Figure size 432x288 with 1 Axes>"
      ]
     },
     "metadata": {
      "needs_background": "light"
     },
     "output_type": "display_data"
    },
    {
     "name": "stdout",
     "output_type": "stream",
     "text": [
      "\n",
      "####### bare_nuclei #######\n"
     ]
    },
    {
     "data": {
      "image/png": "[encoded data removed]",
      "text/plain": [
       "<Figure size 432x288 with 1 Axes>"
      ]
     },
     "metadata": {
      "needs_background": "light"
     },
     "output_type": "display_data"
    },
    {
     "name": "stdout",
     "output_type": "stream",
     "text": [
      "\n",
      "####### bland_chromatin #######\n"
     ]
    },
    {
     "data": {
      "image/png": "[encoded data removed]",
      "text/plain": [
       "<Figure size 432x288 with 1 Axes>"
      ]
     },
     "metadata": {
      "needs_background": "light"
     },
     "output_type": "display_data"
    },
    {
     "name": "stdout",
     "output_type": "stream",
     "text": [
      "\n",
      "####### normal_nucleoli #######\n"
     ]
    },
    {
     "data": {
      "image/png": "[encoded data removed]",
      "text/plain": [
       "<Figure size 432x288 with 1 Axes>"
      ]
     },
     "metadata": {
      "needs_background": "light"
     },
     "output_type": "display_data"
    },
    {
     "name": "stdout",
     "output_type": "stream",
     "text": [
      "\n",
      "####### mitoses #######\n"
     ]
    },
    {
     "data": {
      "image/png": "[encoded data removed]",
      "text/plain": [
       "<Figure size 432x288 with 1 Axes>"
      ]
     },
     "metadata": {
      "needs_background": "light"
     },
     "output_type": "display_data"
    }
   ],
   "source": [
    "#Imprimimos los diagramas de caja sin tener en cuanta la variable objetivo\n",
    "printBoxplot(ds_cleaning.drop(columns=['class'],axis=1))"
   ]
  },
  {
   "cell_type": "code",
   "execution_count": 83,
   "metadata": {},
   "outputs": [
    {
     "data": {
      "text/html": [
       "<div>\n",
       "<style scoped>\n",
       "    .dataframe tbody tr th:only-of-type {\n",
       "        vertical-align: middle;\n",
       "    }\n",
       "\n",
       "    .dataframe tbody tr th {\n",
       "        vertical-align: top;\n",
       "    }\n",
       "\n",
       "    .dataframe thead th {\n",
       "        text-align: right;\n",
       "    }\n",
       "</style>\n",
       "<table border=\"1\" class=\"dataframe\">\n",
       "  <thead>\n",
       "    <tr style=\"text-align: right;\">\n",
       "      <th></th>\n",
       "      <th>clump_thickness</th>\n",
       "      <th>uniformity_of_cell_shape</th>\n",
       "      <th>marginal_adhesion</th>\n",
       "      <th>single_epithelial_cell_size</th>\n",
       "      <th>bare_nuclei</th>\n",
       "      <th>bland_chromatin</th>\n",
       "      <th>normal_nucleoli</th>\n",
       "      <th>mitoses</th>\n",
       "      <th>class</th>\n",
       "    </tr>\n",
       "  </thead>\n",
       "  <tbody>\n",
       "    <tr>\n",
       "      <th>0.25</th>\n",
       "      <td>2.0</td>\n",
       "      <td>1.0</td>\n",
       "      <td>1.0</td>\n",
       "      <td>2.0</td>\n",
       "      <td>1.0</td>\n",
       "      <td>2.0</td>\n",
       "      <td>1.0</td>\n",
       "      <td>1.0</td>\n",
       "      <td>2.0</td>\n",
       "    </tr>\n",
       "    <tr>\n",
       "      <th>0.50</th>\n",
       "      <td>4.0</td>\n",
       "      <td>1.0</td>\n",
       "      <td>1.0</td>\n",
       "      <td>2.0</td>\n",
       "      <td>1.0</td>\n",
       "      <td>3.0</td>\n",
       "      <td>1.0</td>\n",
       "      <td>1.0</td>\n",
       "      <td>2.0</td>\n",
       "    </tr>\n",
       "    <tr>\n",
       "      <th>0.75</th>\n",
       "      <td>6.0</td>\n",
       "      <td>5.0</td>\n",
       "      <td>4.0</td>\n",
       "      <td>4.0</td>\n",
       "      <td>5.0</td>\n",
       "      <td>5.0</td>\n",
       "      <td>4.0</td>\n",
       "      <td>1.0</td>\n",
       "      <td>4.0</td>\n",
       "    </tr>\n",
       "    <tr>\n",
       "      <th>0.95</th>\n",
       "      <td>10.0</td>\n",
       "      <td>10.0</td>\n",
       "      <td>10.0</td>\n",
       "      <td>8.0</td>\n",
       "      <td>10.0</td>\n",
       "      <td>8.0</td>\n",
       "      <td>10.0</td>\n",
       "      <td>5.0</td>\n",
       "      <td>4.0</td>\n",
       "    </tr>\n",
       "  </tbody>\n",
       "</table>\n",
       "</div>"
      ],
      "text/plain": [
       "      clump_thickness  uniformity_of_cell_shape  marginal_adhesion  \\\n",
       "0.25              2.0                       1.0                1.0   \n",
       "0.50              4.0                       1.0                1.0   \n",
       "0.75              6.0                       5.0                4.0   \n",
       "0.95             10.0                      10.0               10.0   \n",
       "\n",
       "      single_epithelial_cell_size  bare_nuclei  bland_chromatin  \\\n",
       "0.25                          2.0          1.0              2.0   \n",
       "0.50                          2.0          1.0              3.0   \n",
       "0.75                          4.0          5.0              5.0   \n",
       "0.95                          8.0         10.0              8.0   \n",
       "\n",
       "      normal_nucleoli  mitoses  class  \n",
       "0.25              1.0      1.0    2.0  \n",
       "0.50              1.0      1.0    2.0  \n",
       "0.75              4.0      1.0    4.0  \n",
       "0.95             10.0      5.0    4.0  "
      ]
     },
     "execution_count": 83,
     "metadata": {},
     "output_type": "execute_result"
    }
   ],
   "source": [
    "ds_cleaning.quantile([0.25,0.5,0.75,0.95])"
   ]
  },
  {
   "cell_type": "markdown",
   "metadata": {},
   "source": [
    "Ahora vamos a reemplazar los valores de las clases para este problema el valor 2 significa que la célula es benigna, 4 que es maligna. En este caso vamos a establecer cómo la célula maligna en 1 y la célula benigna en 0."
   ]
  },
  {
   "cell_type": "code",
   "execution_count": 84,
   "metadata": {},
   "outputs": [
    {
     "data": {
      "text/plain": [
       "array([0., 1.])"
      ]
     },
     "execution_count": 84,
     "metadata": {},
     "output_type": "execute_result"
    }
   ],
   "source": [
    "#Hacemos el reemplazo \n",
    "ds_cleaning['class'].replace([2.0, 4.0], [0, 1], inplace=True)\n",
    "\n",
    "#verificamos que uno y cero sean los únicos valores que tenemos en nuestro atributo 'class'\n",
    "ds_cleaning['class'].unique()"
   ]
  },
  {
   "cell_type": "markdown",
   "metadata": {},
   "source": [
    "# Normalizacion"
   ]
  },
  {
   "cell_type": "code",
   "execution_count": 85,
   "metadata": {
    "scrolled": false
   },
   "outputs": [
    {
     "name": "stdout",
     "output_type": "stream",
     "text": [
      "[[0.3304093  0.26432744 0.3304093  ... 0.19824558 0.13216372 0.06608186]\n",
      " [0.54772256 0.18257419 0.18257419 ... 0.54772256 0.18257419 0.18257419]\n",
      " [0.44112877 0.5881717  0.07352146 ... 0.22056439 0.51465024 0.07352146]\n",
      " ...\n",
      " [0.26352314 0.52704628 0.15811388 ... 0.42163702 0.52704628 0.10540926]\n",
      " [0.26375219 0.39562828 0.26375219 ... 0.65938047 0.39562828 0.06593805]\n",
      " [0.24665057 0.49330113 0.30831321 ... 0.61662642 0.24665057 0.06166264]]\n"
     ]
    }
   ],
   "source": [
    "#Importo el Normalizador de SKLearn\n",
    "from sklearn.preprocessing import Normalizer\n",
    "\n",
    "#Quito la variable de predicción\n",
    "X= np.array(ds_cleaning.drop(['class'],1))\n",
    "\n",
    "#Ajusto nuestro normalizador a \n",
    "#nuestros datos y luego aplicando la transformación\n",
    "transformer = Normalizer().fit(X)\n",
    "X=transformer.transform(X)\n",
    "\n",
    "#Verificamos la Normalización\n",
    "print(X)"
   ]
  },
  {
   "cell_type": "markdown",
   "metadata": {},
   "source": [
    "# Entrenamiento y Evaluación de nuestro modelo"
   ]
  },
  {
   "cell_type": "code",
   "execution_count": 86,
   "metadata": {},
   "outputs": [
    {
     "name": "stdout",
     "output_type": "stream",
     "text": [
      "#### Resultado Training ####\n",
      "\n",
      "Media: 0.858588\n",
      "Desvio Estandar: 0.026603\n"
     ]
    }
   ],
   "source": [
    "from sklearn import neighbors\n",
    "from sklearn import model_selection\n",
    "\n",
    "#Me quedo con la variable de predicción\n",
    "Y = np.array(ds_cleaning['class'])\n",
    "\n",
    "#Ajusto el tamaño de los datos para test\n",
    "validation_size = 0.30\n",
    "\n",
    "#Utilizo una semilla para poder reproducir el split\n",
    "seed = 2018\n",
    "\n",
    "#Hago un split para validar el modelo\n",
    "X_train, X_validation, Y_train, Y_validation = model_selection.train_test_split(X,Y, test_size=validation_size, random_state=seed)\n",
    "\n",
    "#Defino el KFold\n",
    "kfold = model_selection.KFold(n_splits=10, random_state=seed)\n",
    "\n",
    "#Defino el modelo de KNN\n",
    "model = neighbors.KNeighborsClassifier(n_neighbors=2)\n",
    "\n",
    "#Obtengo los resultados del entrenamiento \n",
    "results = model_selection.cross_val_score(model, X_train,Y_train, cv=kfold, scoring='accuracy')\n",
    "print(\"#### Resultado Training ####\\n\")\n",
    "print(\"Media: %f\" % (results.mean()))\n",
    "print(\"Desvio Estandar: %f\" % (results.std()))"
   ]
  },
  {
   "cell_type": "markdown",
   "metadata": {},
   "source": [
    "# Validación del Modelo"
   ]
  },
  {
   "cell_type": "code",
   "execution_count": 87,
   "metadata": {
    "scrolled": false
   },
   "outputs": [
    {
     "name": "stdout",
     "output_type": "stream",
     "text": [
      "\n",
      "-------------------------------------------------------\n",
      "\n",
      "##### K= 2 #####\n",
      "\n",
      "Accuracy: 0.8714285714285714\n",
      "\n",
      "              precision    recall  f1-score   support\n",
      "\n",
      "         0.0       0.85      0.99      0.91       144\n",
      "         1.0       0.95      0.62      0.75        66\n",
      "\n",
      "   micro avg       0.87      0.87      0.87       210\n",
      "   macro avg       0.90      0.80      0.83       210\n",
      "weighted avg       0.88      0.87      0.86       210\n",
      "\n",
      "\n",
      "-------------------------------------------------------\n",
      "\n",
      "##### K= 3 #####\n",
      "\n",
      "Accuracy: 0.9095238095238095\n",
      "\n",
      "              precision    recall  f1-score   support\n",
      "\n",
      "         0.0       0.91      0.96      0.94       144\n",
      "         1.0       0.90      0.80      0.85        66\n",
      "\n",
      "   micro avg       0.91      0.91      0.91       210\n",
      "   macro avg       0.91      0.88      0.89       210\n",
      "weighted avg       0.91      0.91      0.91       210\n",
      "\n",
      "\n",
      "-------------------------------------------------------\n",
      "\n",
      "##### K= 4 #####\n",
      "\n",
      "Accuracy: 0.8952380952380953\n",
      "\n",
      "              precision    recall  f1-score   support\n",
      "\n",
      "         0.0       0.89      0.97      0.93       144\n",
      "         1.0       0.91      0.74      0.82        66\n",
      "\n",
      "   micro avg       0.90      0.90      0.90       210\n",
      "   macro avg       0.90      0.85      0.87       210\n",
      "weighted avg       0.90      0.90      0.89       210\n",
      "\n",
      "\n",
      "-------------------------------------------------------\n",
      "\n",
      "##### K= 5 #####\n",
      "\n",
      "Accuracy: 0.8809523809523809\n",
      "\n",
      "              precision    recall  f1-score   support\n",
      "\n",
      "         0.0       0.90      0.92      0.91       144\n",
      "         1.0       0.83      0.79      0.81        66\n",
      "\n",
      "   micro avg       0.88      0.88      0.88       210\n",
      "   macro avg       0.87      0.86      0.86       210\n",
      "weighted avg       0.88      0.88      0.88       210\n",
      "\n",
      "\n",
      "-------------------------------------------------------\n",
      "\n",
      "##### K= 6 #####\n",
      "\n",
      "Accuracy: 0.8857142857142857\n",
      "\n",
      "              precision    recall  f1-score   support\n",
      "\n",
      "         0.0       0.89      0.94      0.92       144\n",
      "         1.0       0.86      0.76      0.81        66\n",
      "\n",
      "   micro avg       0.89      0.89      0.89       210\n",
      "   macro avg       0.88      0.85      0.86       210\n",
      "weighted avg       0.88      0.89      0.88       210\n",
      "\n",
      "\n",
      "-------------------------------------------------------\n",
      "\n",
      "##### K= 7 #####\n",
      "\n",
      "Accuracy: 0.8666666666666667\n",
      "\n",
      "              precision    recall  f1-score   support\n",
      "\n",
      "         0.0       0.90      0.90      0.90       144\n",
      "         1.0       0.79      0.79      0.79        66\n",
      "\n",
      "   micro avg       0.87      0.87      0.87       210\n",
      "   macro avg       0.85      0.85      0.85       210\n",
      "weighted avg       0.87      0.87      0.87       210\n",
      "\n",
      "\n",
      "-------------------------------------------------------\n",
      "\n",
      "##### K= 8 #####\n",
      "\n",
      "Accuracy: 0.861904761904762\n",
      "\n",
      "              precision    recall  f1-score   support\n",
      "\n",
      "         0.0       0.89      0.92      0.90       144\n",
      "         1.0       0.80      0.74      0.77        66\n",
      "\n",
      "   micro avg       0.86      0.86      0.86       210\n",
      "   macro avg       0.84      0.83      0.84       210\n",
      "weighted avg       0.86      0.86      0.86       210\n",
      "\n",
      "\n",
      "-------------------------------------------------------\n",
      "\n",
      "##### K= 9 #####\n",
      "\n",
      "Accuracy: 0.9\n",
      "\n",
      "              precision    recall  f1-score   support\n",
      "\n",
      "         0.0       0.94      0.91      0.93       144\n",
      "         1.0       0.82      0.88      0.85        66\n",
      "\n",
      "   micro avg       0.90      0.90      0.90       210\n",
      "   macro avg       0.88      0.89      0.89       210\n",
      "weighted avg       0.90      0.90      0.90       210\n",
      "\n",
      "\n",
      "-------------------------------------------------------\n",
      "\n",
      "##### K= 10 #####\n",
      "\n",
      "Accuracy: 0.9047619047619048\n",
      "\n",
      "              precision    recall  f1-score   support\n",
      "\n",
      "         0.0       0.93      0.93      0.93       144\n",
      "         1.0       0.85      0.85      0.85        66\n",
      "\n",
      "   micro avg       0.90      0.90      0.90       210\n",
      "   macro avg       0.89      0.89      0.89       210\n",
      "weighted avg       0.90      0.90      0.90       210\n",
      "\n",
      "\n",
      "-------------------------------------------------------\n",
      "\n",
      "##### K= 11 #####\n",
      "\n",
      "Accuracy: 0.9\n",
      "\n",
      "              precision    recall  f1-score   support\n",
      "\n",
      "         0.0       0.94      0.92      0.93       144\n",
      "         1.0       0.83      0.86      0.84        66\n",
      "\n",
      "   micro avg       0.90      0.90      0.90       210\n",
      "   macro avg       0.88      0.89      0.89       210\n",
      "weighted avg       0.90      0.90      0.90       210\n",
      "\n",
      "\n",
      "-------------------------------------------------------\n",
      "\n",
      "##### K= 12 #####\n",
      "\n",
      "Accuracy: 0.8952380952380953\n",
      "\n",
      "              precision    recall  f1-score   support\n",
      "\n",
      "         0.0       0.92      0.92      0.92       144\n",
      "         1.0       0.83      0.83      0.83        66\n",
      "\n",
      "   micro avg       0.90      0.90      0.90       210\n",
      "   macro avg       0.88      0.88      0.88       210\n",
      "weighted avg       0.90      0.90      0.90       210\n",
      "\n",
      "\n",
      "-------------------------------------------------------\n",
      "\n",
      "##### K= 13 #####\n",
      "\n",
      "Accuracy: 0.9\n",
      "\n",
      "              precision    recall  f1-score   support\n",
      "\n",
      "         0.0       0.93      0.92      0.93       144\n",
      "         1.0       0.84      0.85      0.84        66\n",
      "\n",
      "   micro avg       0.90      0.90      0.90       210\n",
      "   macro avg       0.88      0.89      0.88       210\n",
      "weighted avg       0.90      0.90      0.90       210\n",
      "\n",
      "\n",
      "-------------------------------------------------------\n",
      "\n",
      "##### K= 14 #####\n",
      "\n",
      "Accuracy: 0.8952380952380953\n",
      "\n",
      "              precision    recall  f1-score   support\n",
      "\n",
      "         0.0       0.92      0.93      0.92       144\n",
      "         1.0       0.84      0.82      0.83        66\n",
      "\n",
      "   micro avg       0.90      0.90      0.90       210\n",
      "   macro avg       0.88      0.87      0.88       210\n",
      "weighted avg       0.89      0.90      0.89       210\n",
      "\n",
      "\n",
      "-------------------------------------------------------\n",
      "\n",
      "##### K= 15 #####\n",
      "\n",
      "Accuracy: 0.8904761904761904\n",
      "\n",
      "              precision    recall  f1-score   support\n",
      "\n",
      "         0.0       0.94      0.90      0.92       144\n",
      "         1.0       0.80      0.86      0.83        66\n",
      "\n",
      "   micro avg       0.89      0.89      0.89       210\n",
      "   macro avg       0.87      0.88      0.88       210\n",
      "weighted avg       0.89      0.89      0.89       210\n",
      "\n",
      "\n",
      "-------------------------------------------------------\n",
      "\n",
      "##### K= 16 #####\n",
      "\n",
      "Accuracy: 0.8857142857142857\n",
      "\n",
      "              precision    recall  f1-score   support\n",
      "\n",
      "         0.0       0.93      0.90      0.92       144\n",
      "         1.0       0.80      0.85      0.82        66\n",
      "\n",
      "   micro avg       0.89      0.89      0.89       210\n",
      "   macro avg       0.86      0.88      0.87       210\n",
      "weighted avg       0.89      0.89      0.89       210\n",
      "\n",
      "\n",
      "-------------------------------------------------------\n",
      "\n",
      "##### K= 17 #####\n",
      "\n",
      "Accuracy: 0.8904761904761904\n",
      "\n",
      "              precision    recall  f1-score   support\n",
      "\n",
      "         0.0       0.94      0.90      0.92       144\n",
      "         1.0       0.80      0.86      0.83        66\n",
      "\n",
      "   micro avg       0.89      0.89      0.89       210\n",
      "   macro avg       0.87      0.88      0.88       210\n",
      "weighted avg       0.89      0.89      0.89       210\n",
      "\n",
      "\n",
      "-------------------------------------------------------\n",
      "\n",
      "##### K= 18 #####\n",
      "\n",
      "Accuracy: 0.8857142857142857\n",
      "\n",
      "              precision    recall  f1-score   support\n",
      "\n",
      "         0.0       0.93      0.90      0.92       144\n",
      "         1.0       0.80      0.85      0.82        66\n",
      "\n",
      "   micro avg       0.89      0.89      0.89       210\n",
      "   macro avg       0.86      0.88      0.87       210\n",
      "weighted avg       0.89      0.89      0.89       210\n",
      "\n",
      "\n",
      "-------------------------------------------------------\n",
      "\n",
      "##### K= 19 #####\n",
      "\n",
      "Accuracy: 0.8809523809523809\n",
      "\n",
      "              precision    recall  f1-score   support\n",
      "\n",
      "         0.0       0.93      0.89      0.91       144\n",
      "         1.0       0.78      0.86      0.82        66\n",
      "\n",
      "   micro avg       0.88      0.88      0.88       210\n",
      "   macro avg       0.86      0.88      0.87       210\n",
      "weighted avg       0.89      0.88      0.88       210\n",
      "\n",
      "\n",
      "-------------------------------------------------------\n",
      "\n",
      "##### K= 20 #####\n",
      "\n",
      "Accuracy: 0.8761904761904762\n",
      "\n",
      "              precision    recall  f1-score   support\n",
      "\n",
      "         0.0       0.93      0.89      0.91       144\n",
      "         1.0       0.78      0.85      0.81        66\n",
      "\n",
      "   micro avg       0.88      0.88      0.88       210\n",
      "   macro avg       0.85      0.87      0.86       210\n",
      "weighted avg       0.88      0.88      0.88       210\n",
      "\n",
      "\n",
      "-------------------------------------------------------\n",
      "\n",
      "##### K= 21 #####\n",
      "\n",
      "Accuracy: 0.8857142857142857\n",
      "\n",
      "              precision    recall  f1-score   support\n",
      "\n",
      "         0.0       0.94      0.89      0.91       144\n",
      "         1.0       0.78      0.88      0.83        66\n",
      "\n",
      "   micro avg       0.89      0.89      0.89       210\n",
      "   macro avg       0.86      0.88      0.87       210\n",
      "weighted avg       0.89      0.89      0.89       210\n",
      "\n",
      "\n",
      "-------------------------------------------------------\n",
      "\n",
      "##### K= 22 #####\n",
      "\n",
      "Accuracy: 0.8809523809523809\n",
      "\n",
      "              precision    recall  f1-score   support\n",
      "\n",
      "         0.0       0.93      0.90      0.91       144\n",
      "         1.0       0.79      0.85      0.82        66\n",
      "\n",
      "   micro avg       0.88      0.88      0.88       210\n",
      "   macro avg       0.86      0.87      0.86       210\n",
      "weighted avg       0.88      0.88      0.88       210\n",
      "\n",
      "\n",
      "-------------------------------------------------------\n",
      "\n",
      "##### K= 23 #####\n",
      "\n",
      "Accuracy: 0.8857142857142857\n",
      "\n",
      "              precision    recall  f1-score   support\n",
      "\n",
      "         0.0       0.93      0.90      0.91       144\n",
      "         1.0       0.79      0.86      0.83        66\n",
      "\n",
      "   micro avg       0.89      0.89      0.89       210\n",
      "   macro avg       0.86      0.88      0.87       210\n",
      "weighted avg       0.89      0.89      0.89       210\n",
      "\n",
      "\n",
      "-------------------------------------------------------\n",
      "\n",
      "##### K= 24 #####\n",
      "\n",
      "Accuracy: 0.8809523809523809\n",
      "\n",
      "              precision    recall  f1-score   support\n",
      "\n",
      "         0.0       0.93      0.90      0.91       144\n",
      "         1.0       0.79      0.85      0.82        66\n",
      "\n",
      "   micro avg       0.88      0.88      0.88       210\n",
      "   macro avg       0.86      0.87      0.86       210\n",
      "weighted avg       0.88      0.88      0.88       210\n",
      "\n"
     ]
    },
    {
     "name": "stdout",
     "output_type": "stream",
     "text": [
      "\n",
      "-------------------------------------------------------\n",
      "\n",
      "##### K= 25 #####\n",
      "\n",
      "Accuracy: 0.8809523809523809\n",
      "\n",
      "              precision    recall  f1-score   support\n",
      "\n",
      "         0.0       0.93      0.90      0.91       144\n",
      "         1.0       0.79      0.85      0.82        66\n",
      "\n",
      "   micro avg       0.88      0.88      0.88       210\n",
      "   macro avg       0.86      0.87      0.86       210\n",
      "weighted avg       0.88      0.88      0.88       210\n",
      "\n"
     ]
    }
   ],
   "source": [
    "from sklearn.metrics import accuracy_score\n",
    "from sklearn.metrics import classification_report\n",
    "\n",
    "# Vamos a probar con diferentes valores de k y registrar los scores\n",
    "k = range(2, 26)\n",
    "scores = []\n",
    "for n in k:\n",
    "    #Creo el modelo\n",
    "    model = neighbors.KNeighborsClassifier(n_neighbors=n)\n",
    "    \n",
    "    #Lo ajusto a los datos de entrenamiento\n",
    "    model.fit(X_train, Y_train)\n",
    "    \n",
    "    #Hago las preciiones sbre los datos de Validacion\n",
    "    predictions = model.predict(X_validation)\n",
    "    \n",
    "    #Agregó el scoring a un array para luego hacer una gráfica\n",
    "    accuracy=accuracy_score(Y_validation, predictions)\n",
    "    scores.append(accuracy)\n",
    "    print(\"\\n-------------------------------------------------------\")\n",
    "    print(\"\\n##### K= %s #####\" % n)\n",
    "    print(\"\\nAccuracy: %s\\n\" % accuracy)\n",
    "    print(classification_report(Y_validation, predictions))"
   ]
  },
  {
   "cell_type": "markdown",
   "metadata": {},
   "source": [
    "# Data Visualization"
   ]
  },
  {
   "cell_type": "code",
   "execution_count": 88,
   "metadata": {},
   "outputs": [
    {
     "data": {
      "image/png": "[encoded data removed]",
      "text/plain": [
       "<Figure size 432x288 with 1 Axes>"
      ]
     },
     "metadata": {
      "needs_background": "light"
     },
     "output_type": "display_data"
    }
   ],
   "source": [
    "plt.xlabel('Valores de K');\n",
    "plt.ylabel('Accuracy');\n",
    "sns.lineplot(x=k,y=scores)\n",
    "plt.show()"
   ]
  },
  {
   "cell_type": "code",
   "execution_count": null,
   "metadata": {},
   "outputs": [],
   "source": []
  }
 ],
 "metadata": {
  "kernelspec": {
   "display_name": "Python 3",
   "language": "python",
   "name": "python3"
  },
  "language_info": {
   "codemirror_mode": {
    "name": "ipython",
    "version": 3
   },
   "file_extension": ".py",
   "mimetype": "text/x-python",
   "name": "python",
   "nbconvert_exporter": "python",
   "pygments_lexer": "ipython3",
   "version": "3.6.6"
  }
 },
 "nbformat": 4,
 "nbformat_minor": 2
}
