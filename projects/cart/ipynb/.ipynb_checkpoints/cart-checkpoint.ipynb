{
 "cells": [
  {
   "cell_type": "markdown",
   "metadata": {},
   "source": [
    "# Glass Clasification\n",
    "---\n",
    "\n",
    "EL objetivo del problema es clasificar "
   ]
  },
  {
   "cell_type": "code",
   "execution_count": 127,
   "metadata": {},
   "outputs": [],
   "source": [
    "import numpy as np\n",
    "import pandas as pd"
   ]
  },
  {
   "cell_type": "code",
   "execution_count": 128,
   "metadata": {},
   "outputs": [
    {
     "data": {
      "text/html": [
       "<div>\n",
       "<style scoped>\n",
       "    .dataframe tbody tr th:only-of-type {\n",
       "        vertical-align: middle;\n",
       "    }\n",
       "\n",
       "    .dataframe tbody tr th {\n",
       "        vertical-align: top;\n",
       "    }\n",
       "\n",
       "    .dataframe thead th {\n",
       "        text-align: right;\n",
       "    }\n",
       "</style>\n",
       "<table border=\"1\" class=\"dataframe\">\n",
       "  <thead>\n",
       "    <tr style=\"text-align: right;\">\n",
       "      <th></th>\n",
       "      <th>1</th>\n",
       "      <th>1.52101</th>\n",
       "      <th>13.64</th>\n",
       "      <th>4.49</th>\n",
       "      <th>1.10</th>\n",
       "      <th>71.78</th>\n",
       "      <th>0.06</th>\n",
       "      <th>8.75</th>\n",
       "      <th>0.00</th>\n",
       "      <th>0.00.1</th>\n",
       "      <th>1.1</th>\n",
       "    </tr>\n",
       "  </thead>\n",
       "  <tbody>\n",
       "    <tr>\n",
       "      <th>0</th>\n",
       "      <td>2</td>\n",
       "      <td>1.51761</td>\n",
       "      <td>13.89</td>\n",
       "      <td>3.60</td>\n",
       "      <td>1.36</td>\n",
       "      <td>72.73</td>\n",
       "      <td>0.48</td>\n",
       "      <td>7.83</td>\n",
       "      <td>0.0</td>\n",
       "      <td>0.00</td>\n",
       "      <td>1</td>\n",
       "    </tr>\n",
       "    <tr>\n",
       "      <th>1</th>\n",
       "      <td>3</td>\n",
       "      <td>1.51618</td>\n",
       "      <td>13.53</td>\n",
       "      <td>3.55</td>\n",
       "      <td>1.54</td>\n",
       "      <td>72.99</td>\n",
       "      <td>0.39</td>\n",
       "      <td>7.78</td>\n",
       "      <td>0.0</td>\n",
       "      <td>0.00</td>\n",
       "      <td>1</td>\n",
       "    </tr>\n",
       "    <tr>\n",
       "      <th>2</th>\n",
       "      <td>4</td>\n",
       "      <td>1.51766</td>\n",
       "      <td>13.21</td>\n",
       "      <td>3.69</td>\n",
       "      <td>1.29</td>\n",
       "      <td>72.61</td>\n",
       "      <td>0.57</td>\n",
       "      <td>8.22</td>\n",
       "      <td>0.0</td>\n",
       "      <td>0.00</td>\n",
       "      <td>1</td>\n",
       "    </tr>\n",
       "    <tr>\n",
       "      <th>3</th>\n",
       "      <td>5</td>\n",
       "      <td>1.51742</td>\n",
       "      <td>13.27</td>\n",
       "      <td>3.62</td>\n",
       "      <td>1.24</td>\n",
       "      <td>73.08</td>\n",
       "      <td>0.55</td>\n",
       "      <td>8.07</td>\n",
       "      <td>0.0</td>\n",
       "      <td>0.00</td>\n",
       "      <td>1</td>\n",
       "    </tr>\n",
       "    <tr>\n",
       "      <th>4</th>\n",
       "      <td>6</td>\n",
       "      <td>1.51596</td>\n",
       "      <td>12.79</td>\n",
       "      <td>3.61</td>\n",
       "      <td>1.62</td>\n",
       "      <td>72.97</td>\n",
       "      <td>0.64</td>\n",
       "      <td>8.07</td>\n",
       "      <td>0.0</td>\n",
       "      <td>0.26</td>\n",
       "      <td>1</td>\n",
       "    </tr>\n",
       "  </tbody>\n",
       "</table>\n",
       "</div>"
      ],
      "text/plain": [
       "   1  1.52101  13.64  4.49  1.10  71.78  0.06  8.75  0.00  0.00.1  1.1\n",
       "0  2  1.51761  13.89  3.60  1.36  72.73  0.48  7.83   0.0    0.00    1\n",
       "1  3  1.51618  13.53  3.55  1.54  72.99  0.39  7.78   0.0    0.00    1\n",
       "2  4  1.51766  13.21  3.69  1.29  72.61  0.57  8.22   0.0    0.00    1\n",
       "3  5  1.51742  13.27  3.62  1.24  73.08  0.55  8.07   0.0    0.00    1\n",
       "4  6  1.51596  12.79  3.61  1.62  72.97  0.64  8.07   0.0    0.26    1"
      ]
     },
     "execution_count": 128,
     "metadata": {},
     "output_type": "execute_result"
    }
   ],
   "source": [
    "#Cargamos nuestro dataset\n",
    "ds=pd.read_csv(\"../data/glass.data\")\n",
    "ds.head()"
   ]
  },
  {
   "cell_type": "markdown",
   "metadata": {},
   "source": [
    "Como podemos ver no tenemos los headers, vamos a agregarselos"
   ]
  },
  {
   "cell_type": "code",
   "execution_count": 129,
   "metadata": {},
   "outputs": [
    {
     "data": {
      "text/html": [
       "<div>\n",
       "<style scoped>\n",
       "    .dataframe tbody tr th:only-of-type {\n",
       "        vertical-align: middle;\n",
       "    }\n",
       "\n",
       "    .dataframe tbody tr th {\n",
       "        vertical-align: top;\n",
       "    }\n",
       "\n",
       "    .dataframe thead th {\n",
       "        text-align: right;\n",
       "    }\n",
       "</style>\n",
       "<table border=\"1\" class=\"dataframe\">\n",
       "  <thead>\n",
       "    <tr style=\"text-align: right;\">\n",
       "      <th></th>\n",
       "      <th>id</th>\n",
       "      <th>ri</th>\n",
       "      <th>na</th>\n",
       "      <th>mg</th>\n",
       "      <th>al</th>\n",
       "      <th>si</th>\n",
       "      <th>k</th>\n",
       "      <th>ca</th>\n",
       "      <th>ba</th>\n",
       "      <th>fe</th>\n",
       "      <th>class</th>\n",
       "    </tr>\n",
       "  </thead>\n",
       "  <tbody>\n",
       "    <tr>\n",
       "      <th>0</th>\n",
       "      <td>2</td>\n",
       "      <td>1.51761</td>\n",
       "      <td>13.89</td>\n",
       "      <td>3.60</td>\n",
       "      <td>1.36</td>\n",
       "      <td>72.73</td>\n",
       "      <td>0.48</td>\n",
       "      <td>7.83</td>\n",
       "      <td>0.0</td>\n",
       "      <td>0.00</td>\n",
       "      <td>1</td>\n",
       "    </tr>\n",
       "    <tr>\n",
       "      <th>1</th>\n",
       "      <td>3</td>\n",
       "      <td>1.51618</td>\n",
       "      <td>13.53</td>\n",
       "      <td>3.55</td>\n",
       "      <td>1.54</td>\n",
       "      <td>72.99</td>\n",
       "      <td>0.39</td>\n",
       "      <td>7.78</td>\n",
       "      <td>0.0</td>\n",
       "      <td>0.00</td>\n",
       "      <td>1</td>\n",
       "    </tr>\n",
       "    <tr>\n",
       "      <th>2</th>\n",
       "      <td>4</td>\n",
       "      <td>1.51766</td>\n",
       "      <td>13.21</td>\n",
       "      <td>3.69</td>\n",
       "      <td>1.29</td>\n",
       "      <td>72.61</td>\n",
       "      <td>0.57</td>\n",
       "      <td>8.22</td>\n",
       "      <td>0.0</td>\n",
       "      <td>0.00</td>\n",
       "      <td>1</td>\n",
       "    </tr>\n",
       "    <tr>\n",
       "      <th>3</th>\n",
       "      <td>5</td>\n",
       "      <td>1.51742</td>\n",
       "      <td>13.27</td>\n",
       "      <td>3.62</td>\n",
       "      <td>1.24</td>\n",
       "      <td>73.08</td>\n",
       "      <td>0.55</td>\n",
       "      <td>8.07</td>\n",
       "      <td>0.0</td>\n",
       "      <td>0.00</td>\n",
       "      <td>1</td>\n",
       "    </tr>\n",
       "    <tr>\n",
       "      <th>4</th>\n",
       "      <td>6</td>\n",
       "      <td>1.51596</td>\n",
       "      <td>12.79</td>\n",
       "      <td>3.61</td>\n",
       "      <td>1.62</td>\n",
       "      <td>72.97</td>\n",
       "      <td>0.64</td>\n",
       "      <td>8.07</td>\n",
       "      <td>0.0</td>\n",
       "      <td>0.26</td>\n",
       "      <td>1</td>\n",
       "    </tr>\n",
       "  </tbody>\n",
       "</table>\n",
       "</div>"
      ],
      "text/plain": [
       "   id       ri     na    mg    al     si     k    ca   ba    fe  class\n",
       "0   2  1.51761  13.89  3.60  1.36  72.73  0.48  7.83  0.0  0.00      1\n",
       "1   3  1.51618  13.53  3.55  1.54  72.99  0.39  7.78  0.0  0.00      1\n",
       "2   4  1.51766  13.21  3.69  1.29  72.61  0.57  8.22  0.0  0.00      1\n",
       "3   5  1.51742  13.27  3.62  1.24  73.08  0.55  8.07  0.0  0.00      1\n",
       "4   6  1.51596  12.79  3.61  1.62  72.97  0.64  8.07  0.0  0.26      1"
      ]
     },
     "execution_count": 129,
     "metadata": {},
     "output_type": "execute_result"
    }
   ],
   "source": [
    "#Creamos el array de headers\n",
    "headers=['id','ri','na','mg','al','si','k','ca','ba','fe','class']\n",
    "\n",
    "#Agregamos los headers al dataset\n",
    "ds.columns=headers\n",
    "\n",
    "#verificamos si el dataset quedo con los headers\n",
    "ds.head()"
   ]
  },
  {
   "cell_type": "markdown",
   "metadata": {},
   "source": [
    "Vamos a eliminar el identificador ya que en este problema no es util."
   ]
  },
  {
   "cell_type": "code",
   "execution_count": 130,
   "metadata": {},
   "outputs": [
    {
     "data": {
      "text/html": [
       "<div>\n",
       "<style scoped>\n",
       "    .dataframe tbody tr th:only-of-type {\n",
       "        vertical-align: middle;\n",
       "    }\n",
       "\n",
       "    .dataframe tbody tr th {\n",
       "        vertical-align: top;\n",
       "    }\n",
       "\n",
       "    .dataframe thead th {\n",
       "        text-align: right;\n",
       "    }\n",
       "</style>\n",
       "<table border=\"1\" class=\"dataframe\">\n",
       "  <thead>\n",
       "    <tr style=\"text-align: right;\">\n",
       "      <th></th>\n",
       "      <th>ri</th>\n",
       "      <th>na</th>\n",
       "      <th>mg</th>\n",
       "      <th>al</th>\n",
       "      <th>si</th>\n",
       "      <th>k</th>\n",
       "      <th>ca</th>\n",
       "      <th>ba</th>\n",
       "      <th>fe</th>\n",
       "      <th>class</th>\n",
       "    </tr>\n",
       "  </thead>\n",
       "  <tbody>\n",
       "    <tr>\n",
       "      <th>0</th>\n",
       "      <td>1.51761</td>\n",
       "      <td>13.89</td>\n",
       "      <td>3.60</td>\n",
       "      <td>1.36</td>\n",
       "      <td>72.73</td>\n",
       "      <td>0.48</td>\n",
       "      <td>7.83</td>\n",
       "      <td>0.0</td>\n",
       "      <td>0.00</td>\n",
       "      <td>1</td>\n",
       "    </tr>\n",
       "    <tr>\n",
       "      <th>1</th>\n",
       "      <td>1.51618</td>\n",
       "      <td>13.53</td>\n",
       "      <td>3.55</td>\n",
       "      <td>1.54</td>\n",
       "      <td>72.99</td>\n",
       "      <td>0.39</td>\n",
       "      <td>7.78</td>\n",
       "      <td>0.0</td>\n",
       "      <td>0.00</td>\n",
       "      <td>1</td>\n",
       "    </tr>\n",
       "    <tr>\n",
       "      <th>2</th>\n",
       "      <td>1.51766</td>\n",
       "      <td>13.21</td>\n",
       "      <td>3.69</td>\n",
       "      <td>1.29</td>\n",
       "      <td>72.61</td>\n",
       "      <td>0.57</td>\n",
       "      <td>8.22</td>\n",
       "      <td>0.0</td>\n",
       "      <td>0.00</td>\n",
       "      <td>1</td>\n",
       "    </tr>\n",
       "    <tr>\n",
       "      <th>3</th>\n",
       "      <td>1.51742</td>\n",
       "      <td>13.27</td>\n",
       "      <td>3.62</td>\n",
       "      <td>1.24</td>\n",
       "      <td>73.08</td>\n",
       "      <td>0.55</td>\n",
       "      <td>8.07</td>\n",
       "      <td>0.0</td>\n",
       "      <td>0.00</td>\n",
       "      <td>1</td>\n",
       "    </tr>\n",
       "    <tr>\n",
       "      <th>4</th>\n",
       "      <td>1.51596</td>\n",
       "      <td>12.79</td>\n",
       "      <td>3.61</td>\n",
       "      <td>1.62</td>\n",
       "      <td>72.97</td>\n",
       "      <td>0.64</td>\n",
       "      <td>8.07</td>\n",
       "      <td>0.0</td>\n",
       "      <td>0.26</td>\n",
       "      <td>1</td>\n",
       "    </tr>\n",
       "  </tbody>\n",
       "</table>\n",
       "</div>"
      ],
      "text/plain": [
       "        ri     na    mg    al     si     k    ca   ba    fe  class\n",
       "0  1.51761  13.89  3.60  1.36  72.73  0.48  7.83  0.0  0.00      1\n",
       "1  1.51618  13.53  3.55  1.54  72.99  0.39  7.78  0.0  0.00      1\n",
       "2  1.51766  13.21  3.69  1.29  72.61  0.57  8.22  0.0  0.00      1\n",
       "3  1.51742  13.27  3.62  1.24  73.08  0.55  8.07  0.0  0.00      1\n",
       "4  1.51596  12.79  3.61  1.62  72.97  0.64  8.07  0.0  0.26      1"
      ]
     },
     "execution_count": 130,
     "metadata": {},
     "output_type": "execute_result"
    }
   ],
   "source": [
    "ds.drop(columns=['id'],axis=1,inplace=True)\n",
    "ds.head()"
   ]
  },
  {
   "cell_type": "code",
   "execution_count": 131,
   "metadata": {},
   "outputs": [
    {
     "name": "stdout",
     "output_type": "stream",
     "text": [
      "Training data instances count:\t 213\n"
     ]
    }
   ],
   "source": [
    "#Contamos cuantas istancias tenemos en nuestro dataset\n",
    "print(\"Training data instances count:\\t\",ds.shape[0])"
   ]
  },
  {
   "cell_type": "markdown",
   "metadata": {},
   "source": [
    "vamos a ver los tipo de datos de nuestro dataset"
   ]
  },
  {
   "cell_type": "code",
   "execution_count": 132,
   "metadata": {},
   "outputs": [
    {
     "data": {
      "text/plain": [
       "ri       float64\n",
       "na       float64\n",
       "mg       float64\n",
       "al       float64\n",
       "si       float64\n",
       "k        float64\n",
       "ca       float64\n",
       "ba       float64\n",
       "fe       float64\n",
       "class      int64\n",
       "dtype: object"
      ]
     },
     "execution_count": 132,
     "metadata": {},
     "output_type": "execute_result"
    }
   ],
   "source": [
    "#Chequeamos los tipo de datos de nuestro dataset\n",
    "ds.dtypes"
   ]
  },
  {
   "cell_type": "code",
   "execution_count": 133,
   "metadata": {},
   "outputs": [
    {
     "data": {
      "text/html": [
       "<div>\n",
       "<style scoped>\n",
       "    .dataframe tbody tr th:only-of-type {\n",
       "        vertical-align: middle;\n",
       "    }\n",
       "\n",
       "    .dataframe tbody tr th {\n",
       "        vertical-align: top;\n",
       "    }\n",
       "\n",
       "    .dataframe thead th {\n",
       "        text-align: right;\n",
       "    }\n",
       "</style>\n",
       "<table border=\"1\" class=\"dataframe\">\n",
       "  <thead>\n",
       "    <tr style=\"text-align: right;\">\n",
       "      <th></th>\n",
       "      <th>ri</th>\n",
       "      <th>na</th>\n",
       "      <th>mg</th>\n",
       "      <th>al</th>\n",
       "      <th>si</th>\n",
       "      <th>k</th>\n",
       "      <th>ca</th>\n",
       "      <th>ba</th>\n",
       "      <th>fe</th>\n",
       "      <th>class</th>\n",
       "    </tr>\n",
       "  </thead>\n",
       "  <tbody>\n",
       "    <tr>\n",
       "      <th>count</th>\n",
       "      <td>213.000000</td>\n",
       "      <td>213.000000</td>\n",
       "      <td>213.000000</td>\n",
       "      <td>213.000000</td>\n",
       "      <td>213.000000</td>\n",
       "      <td>213.000000</td>\n",
       "      <td>213.000000</td>\n",
       "      <td>213.000000</td>\n",
       "      <td>213.000000</td>\n",
       "      <td>213.000000</td>\n",
       "    </tr>\n",
       "    <tr>\n",
       "      <th>mean</th>\n",
       "      <td>1.518353</td>\n",
       "      <td>13.406761</td>\n",
       "      <td>2.676056</td>\n",
       "      <td>1.446526</td>\n",
       "      <td>72.655023</td>\n",
       "      <td>0.499108</td>\n",
       "      <td>8.957934</td>\n",
       "      <td>0.175869</td>\n",
       "      <td>0.057277</td>\n",
       "      <td>2.788732</td>\n",
       "    </tr>\n",
       "    <tr>\n",
       "      <th>std</th>\n",
       "      <td>0.003039</td>\n",
       "      <td>0.818371</td>\n",
       "      <td>1.440453</td>\n",
       "      <td>0.499882</td>\n",
       "      <td>0.774052</td>\n",
       "      <td>0.653035</td>\n",
       "      <td>1.426435</td>\n",
       "      <td>0.498245</td>\n",
       "      <td>0.097589</td>\n",
       "      <td>2.105130</td>\n",
       "    </tr>\n",
       "    <tr>\n",
       "      <th>min</th>\n",
       "      <td>1.511150</td>\n",
       "      <td>10.730000</td>\n",
       "      <td>0.000000</td>\n",
       "      <td>0.290000</td>\n",
       "      <td>69.810000</td>\n",
       "      <td>0.000000</td>\n",
       "      <td>5.430000</td>\n",
       "      <td>0.000000</td>\n",
       "      <td>0.000000</td>\n",
       "      <td>1.000000</td>\n",
       "    </tr>\n",
       "    <tr>\n",
       "      <th>25%</th>\n",
       "      <td>1.516520</td>\n",
       "      <td>12.900000</td>\n",
       "      <td>2.090000</td>\n",
       "      <td>1.190000</td>\n",
       "      <td>72.280000</td>\n",
       "      <td>0.130000</td>\n",
       "      <td>8.240000</td>\n",
       "      <td>0.000000</td>\n",
       "      <td>0.000000</td>\n",
       "      <td>1.000000</td>\n",
       "    </tr>\n",
       "    <tr>\n",
       "      <th>50%</th>\n",
       "      <td>1.517680</td>\n",
       "      <td>13.300000</td>\n",
       "      <td>3.480000</td>\n",
       "      <td>1.360000</td>\n",
       "      <td>72.790000</td>\n",
       "      <td>0.560000</td>\n",
       "      <td>8.600000</td>\n",
       "      <td>0.000000</td>\n",
       "      <td>0.000000</td>\n",
       "      <td>2.000000</td>\n",
       "    </tr>\n",
       "    <tr>\n",
       "      <th>75%</th>\n",
       "      <td>1.519150</td>\n",
       "      <td>13.830000</td>\n",
       "      <td>3.600000</td>\n",
       "      <td>1.630000</td>\n",
       "      <td>73.090000</td>\n",
       "      <td>0.610000</td>\n",
       "      <td>9.180000</td>\n",
       "      <td>0.000000</td>\n",
       "      <td>0.100000</td>\n",
       "      <td>3.000000</td>\n",
       "    </tr>\n",
       "    <tr>\n",
       "      <th>max</th>\n",
       "      <td>1.533930</td>\n",
       "      <td>17.380000</td>\n",
       "      <td>3.980000</td>\n",
       "      <td>3.500000</td>\n",
       "      <td>75.410000</td>\n",
       "      <td>6.210000</td>\n",
       "      <td>16.190000</td>\n",
       "      <td>3.150000</td>\n",
       "      <td>0.510000</td>\n",
       "      <td>7.000000</td>\n",
       "    </tr>\n",
       "  </tbody>\n",
       "</table>\n",
       "</div>"
      ],
      "text/plain": [
       "               ri          na          mg          al          si           k  \\\n",
       "count  213.000000  213.000000  213.000000  213.000000  213.000000  213.000000   \n",
       "mean     1.518353   13.406761    2.676056    1.446526   72.655023    0.499108   \n",
       "std      0.003039    0.818371    1.440453    0.499882    0.774052    0.653035   \n",
       "min      1.511150   10.730000    0.000000    0.290000   69.810000    0.000000   \n",
       "25%      1.516520   12.900000    2.090000    1.190000   72.280000    0.130000   \n",
       "50%      1.517680   13.300000    3.480000    1.360000   72.790000    0.560000   \n",
       "75%      1.519150   13.830000    3.600000    1.630000   73.090000    0.610000   \n",
       "max      1.533930   17.380000    3.980000    3.500000   75.410000    6.210000   \n",
       "\n",
       "               ca          ba          fe       class  \n",
       "count  213.000000  213.000000  213.000000  213.000000  \n",
       "mean     8.957934    0.175869    0.057277    2.788732  \n",
       "std      1.426435    0.498245    0.097589    2.105130  \n",
       "min      5.430000    0.000000    0.000000    1.000000  \n",
       "25%      8.240000    0.000000    0.000000    1.000000  \n",
       "50%      8.600000    0.000000    0.000000    2.000000  \n",
       "75%      9.180000    0.000000    0.100000    3.000000  \n",
       "max     16.190000    3.150000    0.510000    7.000000  "
      ]
     },
     "execution_count": 133,
     "metadata": {},
     "output_type": "execute_result"
    }
   ],
   "source": [
    "#Obtenemos las magnitudes estadistcas de nuestro dataset\n",
    "ds.describe()"
   ]
  },
  {
   "cell_type": "code",
   "execution_count": 134,
   "metadata": {},
   "outputs": [
    {
     "data": {
      "text/html": [
       "<div>\n",
       "<style scoped>\n",
       "    .dataframe tbody tr th:only-of-type {\n",
       "        vertical-align: middle;\n",
       "    }\n",
       "\n",
       "    .dataframe tbody tr th {\n",
       "        vertical-align: top;\n",
       "    }\n",
       "\n",
       "    .dataframe thead th {\n",
       "        text-align: right;\n",
       "    }\n",
       "</style>\n",
       "<table border=\"1\" class=\"dataframe\">\n",
       "  <thead>\n",
       "    <tr style=\"text-align: right;\">\n",
       "      <th></th>\n",
       "      <th>ri</th>\n",
       "      <th>na</th>\n",
       "      <th>mg</th>\n",
       "      <th>al</th>\n",
       "      <th>si</th>\n",
       "      <th>k</th>\n",
       "      <th>ca</th>\n",
       "      <th>ba</th>\n",
       "      <th>fe</th>\n",
       "      <th>class</th>\n",
       "    </tr>\n",
       "  </thead>\n",
       "  <tbody>\n",
       "    <tr>\n",
       "      <th>0</th>\n",
       "      <td>1.51761</td>\n",
       "      <td>13.89</td>\n",
       "      <td>3.60</td>\n",
       "      <td>1.36</td>\n",
       "      <td>72.73</td>\n",
       "      <td>0.48</td>\n",
       "      <td>7.83</td>\n",
       "      <td>0.0</td>\n",
       "      <td>0.00</td>\n",
       "      <td>building_windows_float_processed</td>\n",
       "    </tr>\n",
       "    <tr>\n",
       "      <th>1</th>\n",
       "      <td>1.51618</td>\n",
       "      <td>13.53</td>\n",
       "      <td>3.55</td>\n",
       "      <td>1.54</td>\n",
       "      <td>72.99</td>\n",
       "      <td>0.39</td>\n",
       "      <td>7.78</td>\n",
       "      <td>0.0</td>\n",
       "      <td>0.00</td>\n",
       "      <td>building_windows_float_processed</td>\n",
       "    </tr>\n",
       "    <tr>\n",
       "      <th>2</th>\n",
       "      <td>1.51766</td>\n",
       "      <td>13.21</td>\n",
       "      <td>3.69</td>\n",
       "      <td>1.29</td>\n",
       "      <td>72.61</td>\n",
       "      <td>0.57</td>\n",
       "      <td>8.22</td>\n",
       "      <td>0.0</td>\n",
       "      <td>0.00</td>\n",
       "      <td>building_windows_float_processed</td>\n",
       "    </tr>\n",
       "    <tr>\n",
       "      <th>3</th>\n",
       "      <td>1.51742</td>\n",
       "      <td>13.27</td>\n",
       "      <td>3.62</td>\n",
       "      <td>1.24</td>\n",
       "      <td>73.08</td>\n",
       "      <td>0.55</td>\n",
       "      <td>8.07</td>\n",
       "      <td>0.0</td>\n",
       "      <td>0.00</td>\n",
       "      <td>building_windows_float_processed</td>\n",
       "    </tr>\n",
       "    <tr>\n",
       "      <th>4</th>\n",
       "      <td>1.51596</td>\n",
       "      <td>12.79</td>\n",
       "      <td>3.61</td>\n",
       "      <td>1.62</td>\n",
       "      <td>72.97</td>\n",
       "      <td>0.64</td>\n",
       "      <td>8.07</td>\n",
       "      <td>0.0</td>\n",
       "      <td>0.26</td>\n",
       "      <td>building_windows_float_processed</td>\n",
       "    </tr>\n",
       "  </tbody>\n",
       "</table>\n",
       "</div>"
      ],
      "text/plain": [
       "        ri     na    mg    al     si     k    ca   ba    fe  \\\n",
       "0  1.51761  13.89  3.60  1.36  72.73  0.48  7.83  0.0  0.00   \n",
       "1  1.51618  13.53  3.55  1.54  72.99  0.39  7.78  0.0  0.00   \n",
       "2  1.51766  13.21  3.69  1.29  72.61  0.57  8.22  0.0  0.00   \n",
       "3  1.51742  13.27  3.62  1.24  73.08  0.55  8.07  0.0  0.00   \n",
       "4  1.51596  12.79  3.61  1.62  72.97  0.64  8.07  0.0  0.26   \n",
       "\n",
       "                              class  \n",
       "0  building_windows_float_processed  \n",
       "1  building_windows_float_processed  \n",
       "2  building_windows_float_processed  \n",
       "3  building_windows_float_processed  \n",
       "4  building_windows_float_processed  "
      ]
     },
     "execution_count": 134,
     "metadata": {},
     "output_type": "execute_result"
    }
   ],
   "source": [
    "#ds['class'] = ds.class.replace()\n",
    "\n",
    "ds['class']=ds['class'].map({  \n",
    "   1:'building_windows_float_processed',\n",
    "   2:'building_windows_non_float_processed',\n",
    "   3:'vehicle_windows_float_processed',\n",
    "   5:'containers',\n",
    "   6:'tableware',\n",
    "   7:'headlamps'\n",
    "})\n",
    "\n",
    "ds.head()"
   ]
  },
  {
   "cell_type": "markdown",
   "metadata": {},
   "source": [
    "# Missing Values\n",
    "---\n",
    "una vez que chequeamos los tipo de datos de nuestro dataset vamos a busar datos faltantes, \n",
    "para ellos mostraremos todos los posibles valores que pueden tomar nuestro dataset.\n",
    "Vamos a entrenar un árbol de desición con esto datos, no es necesario que hagamos el estudio\n",
    "de valores faltantes o outliers, aún así vamos a seguir las buenas practicas y hacer una revisión de\n",
    "los mismos."
   ]
  },
  {
   "cell_type": "code",
   "execution_count": 135,
   "metadata": {},
   "outputs": [
    {
     "name": "stdout",
     "output_type": "stream",
     "text": [
      "\n",
      "#### ri ####\n",
      "[1.51761 1.51618 1.51766 1.51742 1.51596 1.51743 1.51756 1.51918 1.51755\n",
      " 1.51571 1.51763 1.51589 1.51748 1.51784 1.52196 1.51911 1.51735 1.5175\n",
      " 1.51966 1.51736 1.51751 1.5172  1.51764 1.51793 1.51721 1.51768 1.51747\n",
      " 1.51775 1.51753 1.51783 1.51567 1.51909 1.51797 1.52213 1.51779 1.5221\n",
      " 1.51786 1.519   1.51869 1.52667 1.52223 1.51898 1.5232  1.51926 1.51808\n",
      " 1.51837 1.51778 1.51769 1.51215 1.51824 1.51754 1.51905 1.51977 1.52172\n",
      " 1.52227 1.52099 1.52152 1.523   1.51574 1.51848 1.51593 1.51631 1.5159\n",
      " 1.51645 1.51627 1.51613 1.51592 1.51646 1.51594 1.51409 1.51625 1.51569\n",
      " 1.5164  1.51841 1.51605 1.51588 1.51629 1.5186  1.51689 1.51811 1.51655\n",
      " 1.5173  1.5182  1.52725 1.5241  1.52475 1.53125 1.53393 1.52222 1.51818\n",
      " 1.52664 1.52739 1.52777 1.51892 1.51847 1.51846 1.51829 1.51708 1.51673\n",
      " 1.51652 1.51844 1.51663 1.51687 1.51707 1.52177 1.51872 1.51667 1.52081\n",
      " 1.52068 1.5202  1.52614 1.51813 1.518   1.51789 1.51806 1.51711 1.51674\n",
      " 1.5169  1.51851 1.51662 1.51709 1.5166  1.51839 1.5161  1.5167  1.51643\n",
      " 1.51665 1.52127 1.51694 1.52121 1.51776 1.51796 1.51832 1.51934 1.52211\n",
      " 1.51514 1.51915 1.52171 1.52151 1.51969 1.51666 1.51994 1.52369 1.51316\n",
      " 1.51321 1.52043 1.52058 1.52119 1.51937 1.51852 1.51299 1.51888 1.51916\n",
      " 1.51115 1.51131 1.51838 1.52315 1.52247 1.52365 1.51602 1.51623 1.51719\n",
      " 1.51683 1.51545 1.51556 1.51727 1.51531 1.51609 1.51508 1.51653 1.51658\n",
      " 1.51617 1.51732 1.51831 1.51685 1.52065 1.51651]\n",
      "\n",
      "#### na ####\n",
      "[13.89 13.53 13.21 13.27 12.79 13.3  13.15 14.04 13.   12.72 12.8  12.88\n",
      " 12.86 12.61 12.81 12.68 14.36 13.9  13.02 12.82 14.77 12.78 13.38 12.98\n",
      " 12.87 12.56 13.08 12.65 12.84 12.85 12.57 12.69 13.29 12.74 14.21 12.71\n",
      " 13.73 12.73 13.49 13.19 13.99 13.58 13.72 13.2  13.43 13.14 12.45 12.99\n",
      " 13.48 13.39 13.6  13.81 13.51 14.17 13.69 13.05 13.12 13.31 14.86 13.64\n",
      " 13.09 13.34 13.44 13.92 13.25 13.41 14.25 13.36 13.24 13.4  13.01 12.55\n",
      " 12.93 12.9  12.2  12.67 12.96 12.75 12.35 12.62 13.8  13.83 11.45 10.73\n",
      " 12.3  14.43 11.23 11.02 12.64 13.46 13.1  13.56 13.23 12.94 13.78 13.55\n",
      " 13.98 13.75 13.7  13.71 13.33 12.89 13.65 12.16 14.32 13.42 13.04 14.03\n",
      " 13.5  14.19 14.01 11.56 11.03 12.97 14.   13.79 14.46 14.09 14.4  14.99\n",
      " 14.15 14.56 17.38 15.79 13.88 14.85 14.2  14.75 14.14 13.87 14.7  14.38\n",
      " 15.01 15.15 11.95 14.8  14.95 14.94 14.39 14.37 14.92 14.23]\n",
      "\n",
      "#### mg ####\n",
      "[3.6  3.55 3.69 3.62 3.61 3.58 3.46 3.66 3.43 3.56 3.59 3.54 3.67 3.85\n",
      " 3.73 3.75 3.57 3.5  3.48 3.52 3.49 3.47 3.45 3.53 3.82 3.42 3.39 3.84\n",
      " 3.37 3.7  3.77 3.35 3.72 3.33 2.87 2.84 2.81 2.71 3.74 3.86 3.81 3.65\n",
      " 3.87 3.09 3.44 3.41 3.34 3.25 2.88 2.96 2.85 2.72 2.76 3.15 2.9  0.\n",
      " 3.83 3.97 3.89 3.9  3.68 3.64 3.76 2.28 2.09 1.35 1.01 3.98 3.93 3.8\n",
      " 3.63 3.51 3.18 3.4  3.36 3.78 2.68 1.85 1.88 1.71 1.61 0.33 2.39 2.41\n",
      " 2.24 2.19 1.74 0.78 3.2  3.26 2.2  1.83 1.78]\n",
      "\n",
      "#### al ####\n",
      "[1.36 1.54 1.29 1.24 1.62 1.14 1.05 1.37 1.56 1.27 1.4  1.31 1.23 1.16\n",
      " 0.89 1.18 1.69 1.49 0.29 1.35 1.15 1.21 1.41 1.33 1.43 1.28 1.3  1.38\n",
      " 1.34 1.32 0.47 1.12 1.2  0.72 1.19 0.71 0.79 0.51 1.17 1.11 0.88 0.78\n",
      " 0.9  0.87 0.82 1.74 1.52 1.57 1.51 1.25 1.9  2.12 1.55 2.08 1.47 1.48\n",
      " 1.87 1.45 1.58 1.06 1.71 1.44 1.63 0.83 0.66 1.88 2.1  1.   0.56 0.77\n",
      " 0.75 0.67 1.26 1.81 1.53 1.67 1.08 1.64 1.61 1.07 1.79 1.76 0.65 1.22\n",
      " 0.58 0.91 3.5  1.86 1.65 1.83 3.04 3.02 2.17 1.66 2.09 0.34 2.22 2.06\n",
      " 2.38 2.79 2.   1.98 2.68 2.54 2.34 2.66 2.51 2.25 2.42 1.99 2.27 1.8\n",
      " 1.82 2.74 2.88 2.02 1.94]\n",
      "\n",
      "#### si ####\n",
      "[72.73 72.99 72.61 73.08 72.97 73.09 73.24 72.08 73.2  73.01 73.28 73.21\n",
      " 73.29 73.11 71.36 72.12 72.75 72.02 72.79 73.02 72.85 73.   72.64 73.04\n",
      " 73.15 72.86 73.27 73.39 72.95 72.74 71.81 72.96 71.77 73.03 72.76 71.76\n",
      " 71.95 72.72 71.57 71.99 71.75 72.36 72.84 72.98 73.7  71.72 71.79 71.35\n",
      " 72.01 71.96 72.22 72.32 72.2  71.87 73.1  72.87 73.12 72.39 72.83 72.88\n",
      " 72.66 73.17 72.81 72.28 73.25 72.65 72.89 73.23 73.06 73.26 72.26 72.34\n",
      " 73.55 72.92 73.81 70.57 71.15 72.19 69.81 70.16 72.67 74.45 72.55 72.44\n",
      " 72.38 72.33 72.06 72.53 72.45 72.4  72.52 72.51 72.18 71.24 72.49 72.78\n",
      " 73.07 73.36 73.14 72.54 72.57 72.77 72.7  72.48 71.5  72.69 72.04 71.94\n",
      " 72.14 69.89 73.44 73.75 73.88 70.48 70.7  72.25 72.37 74.55 72.5  73.48\n",
      " 75.41 71.25 70.26 70.43 73.46 73.05 73.5  75.18 73.72 73.3  73.42 73.61]\n",
      "\n",
      "#### k ####\n",
      "[0.48 0.39 0.57 0.55 0.64 0.58 0.56 0.67 0.6  0.69 0.54 0.61 0.15 0.06\n",
      " 0.03 0.59 0.62 0.5  0.65 0.51 0.11 0.17 0.02 0.13 0.09 0.14 0.12 0.23\n",
      " 0.   0.18 0.19 0.16 0.72 0.66 0.37 0.68 1.1  0.45 0.38 0.63 0.44 0.07\n",
      " 0.73 0.7  0.35 0.08 0.81 0.1  0.49 0.53 0.33 0.52 1.68 0.47 0.97 0.32\n",
      " 6.21 0.76 1.76 1.46 0.31 0.04 0.05 2.7  1.41]\n",
      "\n",
      "#### ca ####\n",
      "[ 7.83  7.78  8.22  8.07  8.17  8.24  8.3   8.4   8.09  8.56  8.05  8.38\n",
      "  8.5   8.39  8.7   9.15  8.89  8.44  8.52  9.    8.59  8.43  8.53  8.54\n",
      "  8.49  8.69  8.55  8.75  8.57  8.78  8.68  9.57  8.77  8.64  9.74  8.76\n",
      "  8.83  9.82 10.02  8.91 10.06  9.14  9.03  9.07  9.02  9.06  8.35  8.03\n",
      "  8.27  8.67  9.54  9.69  9.61  9.4   9.85 10.17  7.36  8.32  7.89  7.9\n",
      "  7.96  8.04  7.94  7.97  7.86  8.1   7.08  8.21  8.08  8.12  8.96  8.6\n",
      "  9.13  8.9   8.79  9.23  9.42 11.64 10.79 13.24 13.3  16.19 11.52 10.99\n",
      " 14.68 14.96 14.4   8.28  8.31  7.88  8.42  7.99 10.56 11.14 13.44  8.15\n",
      "  8.11  8.41  8.23  8.18  8.81  8.33  9.49  8.93  8.58  8.65  9.65  8.99\n",
      "  5.87 10.09 11.41 11.62 11.53 11.32 12.24  6.96  6.93 12.5   9.7  11.27\n",
      "  9.77  9.26  9.32  7.59  9.95 10.88 11.22  6.65  5.43  5.79  9.76  8.61\n",
      "  9.04  9.41  8.95  9.08  8.34  8.71  6.47  9.45  9.18  8.48  8.62]\n",
      "\n",
      "#### ba ####\n",
      "[0.   0.09 0.11 0.69 0.14 3.15 0.27 0.06 0.15 2.2  0.24 1.19 1.63 1.68\n",
      " 0.76 0.64 0.4  1.59 1.57 0.61 0.81 0.66 0.53 0.63 0.56 1.71 0.67 1.55\n",
      " 1.38 2.88 0.54 1.06 1.64 1.67]\n",
      "\n",
      "#### fe ####\n",
      "[0.   0.26 0.11 0.24 0.17 0.07 0.19 0.14 0.22 0.06 0.3  0.16 0.1  0.09\n",
      " 0.31 0.03 0.12 0.32 0.15 0.2  0.34 0.28 0.08 0.29 0.21 0.18 0.25 0.35\n",
      " 0.37 0.51 0.05 0.01]\n",
      "\n",
      "#### class ####\n",
      "['building_windows_float_processed' 'building_windows_non_float_processed'\n",
      " 'vehicle_windows_float_processed' 'containers' 'tableware' 'headlamps']\n"
     ]
    }
   ],
   "source": [
    "#Creamos una funcion para imprimir ls diferentes valores que toman nuestras columnas\n",
    "def unique_value(dataset):\n",
    "    for column in dataset:\n",
    "        print( \"\\n#### %s ####\" % dataset[column].name)\n",
    "        print(dataset[column].unique())\n",
    "\n",
    "##Verificamos nuestros datos para cada atributo\n",
    "unique_value(ds)"
   ]
  },
  {
   "cell_type": "markdown",
   "metadata": {},
   "source": [
    "Como podemos observar no tenemos ningun dato faltante."
   ]
  },
  {
   "cell_type": "markdown",
   "metadata": {},
   "source": [
    "# Outliers\n",
    "---\n",
    "Como primer paso vamos a revisar la correlación entre atributotis mediante la matriz de correlación."
   ]
  },
  {
   "cell_type": "code",
   "execution_count": 136,
   "metadata": {},
   "outputs": [
    {
     "data": {
      "image/png": "[encoded data removed]",
      "text/plain": [
       "<Figure size 1080x576 with 2 Axes>"
      ]
     },
     "metadata": {
      "needs_background": "light"
     },
     "output_type": "display_data"
    }
   ],
   "source": [
    "import matplotlib.pyplot as plt\n",
    "import seaborn as sns\n",
    "\n",
    "#Creamos una función para imprimir la matriz de correlacion.\n",
    "def printCorrelationMatrix(dataset):\n",
    "    plt.figure(figsize=(15,8))\n",
    "    correlation=ds.corr()\n",
    "    mask = np.zeros_like(correlation)\n",
    "    mask[np.triu_indices_from(mask)] = True\n",
    "    with sns.axes_style(\"white\"):\n",
    "        ax = sns.heatmap(correlation, mask=mask,cmap=\"Reds\",annot=True)\n",
    "        \n",
    "printCorrelationMatrix(ds)"
   ]
  },
  {
   "cell_type": "code",
   "execution_count": 137,
   "metadata": {
    "scrolled": false
   },
   "outputs": [
    {
     "name": "stdout",
     "output_type": "stream",
     "text": [
      "\n",
      "####### ri #######\n"
     ]
    },
    {
     "data": {
      "image/png": "[encoded data removed]",
      "text/plain": [
       "<Figure size 432x288 with 1 Axes>"
      ]
     },
     "metadata": {
      "needs_background": "light"
     },
     "output_type": "display_data"
    },
    {
     "name": "stdout",
     "output_type": "stream",
     "text": [
      "\n",
      "####### na #######\n"
     ]
    },
    {
     "data": {
      "image/png": "[encoded data removed]",
      "text/plain": [
       "<Figure size 432x288 with 1 Axes>"
      ]
     },
     "metadata": {
      "needs_background": "light"
     },
     "output_type": "display_data"
    },
    {
     "name": "stdout",
     "output_type": "stream",
     "text": [
      "\n",
      "####### mg #######\n"
     ]
    },
    {
     "data": {
      "image/png": "[encoded data removed]",
      "text/plain": [
       "<Figure size 432x288 with 1 Axes>"
      ]
     },
     "metadata": {
      "needs_background": "light"
     },
     "output_type": "display_data"
    },
    {
     "name": "stdout",
     "output_type": "stream",
     "text": [
      "\n",
      "####### al #######\n"
     ]
    },
    {
     "data": {
      "image/png": "[encoded data removed]",
      "text/plain": [
       "<Figure size 432x288 with 1 Axes>"
      ]
     },
     "metadata": {
      "needs_background": "light"
     },
     "output_type": "display_data"
    },
    {
     "name": "stdout",
     "output_type": "stream",
     "text": [
      "\n",
      "####### si #######\n"
     ]
    },
    {
     "data": {
      "image/png": "[encoded data removed]",
      "text/plain": [
       "<Figure size 432x288 with 1 Axes>"
      ]
     },
     "metadata": {
      "needs_background": "light"
     },
     "output_type": "display_data"
    },
    {
     "name": "stdout",
     "output_type": "stream",
     "text": [
      "\n",
      "####### k #######\n"
     ]
    },
    {
     "data": {
      "image/png": "[encoded data removed]",
      "text/plain": [
       "<Figure size 432x288 with 1 Axes>"
      ]
     },
     "metadata": {
      "needs_background": "light"
     },
     "output_type": "display_data"
    },
    {
     "name": "stdout",
     "output_type": "stream",
     "text": [
      "\n",
      "####### ca #######\n"
     ]
    },
    {
     "data": {
      "image/png": "[encoded data removed]",
      "text/plain": [
       "<Figure size 432x288 with 1 Axes>"
      ]
     },
     "metadata": {
      "needs_background": "light"
     },
     "output_type": "display_data"
    },
    {
     "name": "stdout",
     "output_type": "stream",
     "text": [
      "\n",
      "####### ba #######\n"
     ]
    },
    {
     "data": {
      "image/png": "[encoded data removed]",
      "text/plain": [
       "<Figure size 432x288 with 1 Axes>"
      ]
     },
     "metadata": {
      "needs_background": "light"
     },
     "output_type": "display_data"
    },
    {
     "name": "stdout",
     "output_type": "stream",
     "text": [
      "\n",
      "####### fe #######\n"
     ]
    },
    {
     "data": {
      "image/png": "[encoded data removed]",
      "text/plain": [
       "<Figure size 432x288 with 1 Axes>"
      ]
     },
     "metadata": {
      "needs_background": "light"
     },
     "output_type": "display_data"
    }
   ],
   "source": [
    "#Ahora vamos a ver los diagramas de caja atribut por atributo, descartanto la clase\n",
    "def printBoxplot(dataset):\n",
    "    for column in dataset.columns:\n",
    "        print(\"\\n####### \"+str(column)+\" #######\")\n",
    "        sns.boxplot(dataset[column])\n",
    "        plt.show()\n",
    "printBoxplot(ds.drop(columns=['class'],axis=1))"
   ]
  },
  {
   "cell_type": "code",
   "execution_count": 138,
   "metadata": {},
   "outputs": [
    {
     "data": {
      "text/html": [
       "<div>\n",
       "<style scoped>\n",
       "    .dataframe tbody tr th:only-of-type {\n",
       "        vertical-align: middle;\n",
       "    }\n",
       "\n",
       "    .dataframe tbody tr th {\n",
       "        vertical-align: top;\n",
       "    }\n",
       "\n",
       "    .dataframe thead th {\n",
       "        text-align: right;\n",
       "    }\n",
       "</style>\n",
       "<table border=\"1\" class=\"dataframe\">\n",
       "  <thead>\n",
       "    <tr style=\"text-align: right;\">\n",
       "      <th></th>\n",
       "      <th>ri</th>\n",
       "      <th>na</th>\n",
       "      <th>mg</th>\n",
       "      <th>al</th>\n",
       "      <th>si</th>\n",
       "      <th>k</th>\n",
       "      <th>ca</th>\n",
       "      <th>ba</th>\n",
       "      <th>fe</th>\n",
       "    </tr>\n",
       "  </thead>\n",
       "  <tbody>\n",
       "    <tr>\n",
       "      <th>0.25</th>\n",
       "      <td>1.516520</td>\n",
       "      <td>12.900</td>\n",
       "      <td>2.090</td>\n",
       "      <td>1.190</td>\n",
       "      <td>72.28</td>\n",
       "      <td>0.13</td>\n",
       "      <td>8.240</td>\n",
       "      <td>0.00</td>\n",
       "      <td>0.000</td>\n",
       "    </tr>\n",
       "    <tr>\n",
       "      <th>0.50</th>\n",
       "      <td>1.517680</td>\n",
       "      <td>13.300</td>\n",
       "      <td>3.480</td>\n",
       "      <td>1.360</td>\n",
       "      <td>72.79</td>\n",
       "      <td>0.56</td>\n",
       "      <td>8.600</td>\n",
       "      <td>0.00</td>\n",
       "      <td>0.000</td>\n",
       "    </tr>\n",
       "    <tr>\n",
       "      <th>0.75</th>\n",
       "      <td>1.519150</td>\n",
       "      <td>13.830</td>\n",
       "      <td>3.600</td>\n",
       "      <td>1.630</td>\n",
       "      <td>73.09</td>\n",
       "      <td>0.61</td>\n",
       "      <td>9.180</td>\n",
       "      <td>0.00</td>\n",
       "      <td>0.100</td>\n",
       "    </tr>\n",
       "    <tr>\n",
       "      <th>0.95</th>\n",
       "      <td>1.523666</td>\n",
       "      <td>14.854</td>\n",
       "      <td>3.844</td>\n",
       "      <td>2.396</td>\n",
       "      <td>73.52</td>\n",
       "      <td>0.76</td>\n",
       "      <td>11.566</td>\n",
       "      <td>1.57</td>\n",
       "      <td>0.268</td>\n",
       "    </tr>\n",
       "  </tbody>\n",
       "</table>\n",
       "</div>"
      ],
      "text/plain": [
       "            ri      na     mg     al     si     k      ca    ba     fe\n",
       "0.25  1.516520  12.900  2.090  1.190  72.28  0.13   8.240  0.00  0.000\n",
       "0.50  1.517680  13.300  3.480  1.360  72.79  0.56   8.600  0.00  0.000\n",
       "0.75  1.519150  13.830  3.600  1.630  73.09  0.61   9.180  0.00  0.100\n",
       "0.95  1.523666  14.854  3.844  2.396  73.52  0.76  11.566  1.57  0.268"
      ]
     },
     "execution_count": 138,
     "metadata": {},
     "output_type": "execute_result"
    }
   ],
   "source": [
    "#vamos a chequear los percentiles\n",
    "ds.quantile([0.25,0.5,0.75,0.95])"
   ]
  },
  {
   "cell_type": "markdown",
   "metadata": {},
   "source": [
    "# Entrenamiento y Evaluación del modelo"
   ]
  },
  {
   "cell_type": "code",
   "execution_count": 152,
   "metadata": {},
   "outputs": [
    {
     "name": "stdout",
     "output_type": "stream",
     "text": [
      "#### Resultado Training ####\n",
      "\n",
      "Media: 0.684583\n",
      "Desvio Estandar: 0.134139\n"
     ]
    }
   ],
   "source": [
    "from sklearn import tree\n",
    "from sklearn import model_selection\n",
    "\n",
    "#Quito la variable de predicción\n",
    "X= np.array(ds.drop(['class'],1))\n",
    "\n",
    "#Me quedo con la variable de predicción\n",
    "Y = np.array(ds['class'])\n",
    "\n",
    "#Ajusto el tamaño de los datos para test\n",
    "validation_size = 0.25\n",
    "\n",
    "#Utilizo una semilla para poder reproducir el split\n",
    "seed = 2018\n",
    "\n",
    "#Hago un split para validar el modelo\n",
    "X_train, X_validation, Y_train, Y_validation = model_selection.train_test_split(X,Y, test_size=validation_size, random_state=seed)\n",
    "\n",
    "#Defino el KFold\n",
    "kfold = model_selection.KFold(n_splits=10, random_state=seed)\n",
    "\n",
    "#Definó el modelo de árbol de desición\n",
    "model = tree.DecisionTreeClassifier()\n",
    "\n",
    "#Obtengo los resultados del entrenamiento \n",
    "results = model_selection.cross_val_score(model, X_train,Y_train, cv=kfold, scoring='accuracy',)\n",
    "print(\"#### Resultado Training ####\\n\")\n",
    "print(\"Media: %f\" % (results.mean()))\n",
    "print(\"Desvio Estandar: %f\" % (results.std()))"
   ]
  },
  {
   "cell_type": "code",
   "execution_count": 153,
   "metadata": {},
   "outputs": [
    {
     "name": "stdout",
     "output_type": "stream",
     "text": [
      "\n",
      "Accuracy: 0.6666666666666666\n",
      "\n",
      "                                      precision    recall  f1-score   support\n",
      "\n",
      "    building_windows_float_processed       0.58      0.69      0.63        16\n",
      "building_windows_non_float_processed       0.68      0.75      0.71        20\n",
      "                          containers       1.00      1.00      1.00         1\n",
      "                           headlamps       0.86      0.67      0.75         9\n",
      "                           tableware       1.00      1.00      1.00         3\n",
      "     vehicle_windows_float_processed       0.00      0.00      0.00         5\n",
      "\n",
      "                           micro avg       0.67      0.67      0.67        54\n",
      "                           macro avg       0.69      0.68      0.68        54\n",
      "                        weighted avg       0.64      0.67      0.65        54\n",
      "\n"
     ]
    }
   ],
   "source": [
    "from sklearn.metrics import accuracy_score\n",
    "from sklearn.metrics import classification_report\n",
    "\n",
    "#Lo ajusto a los datos de entrenamiento\n",
    "model.fit(X_train, Y_train)\n",
    "\n",
    "#Hago las preciiones sbre los datos de Validacion\n",
    "predictions = model.predict(X_validation)\n",
    "\n",
    "#Agregó el scoring a un array para luego hacer una gráfica\n",
    "accuracy=accuracy_score(Y_validation, predictions)\n",
    "\n",
    "#imprimimos el Accurcy\n",
    "print(\"\\nAccuracy: %s\\n\" % accuracy)\n",
    "\n",
    "#imprimimos otras metricas del model\n",
    "print(classification_report(Y_validation, predictions))"
   ]
  },
  {
   "cell_type": "markdown",
   "metadata": {},
   "source": [
    "# Data Visualization"
   ]
  },
  {
   "cell_type": "code",
   "execution_count": 156,
   "metadata": {},
   "outputs": [
    {
     "ename": "SyntaxError",
     "evalue": "invalid syntax (<ipython-input-156-177b0dc0ac23>, line 4)",
     "output_type": "error",
     "traceback": [
      "\u001b[0;36m  File \u001b[0;32m\"<ipython-input-156-177b0dc0ac23>\"\u001b[0;36m, line \u001b[0;32m4\u001b[0m\n\u001b[0;31m    special_characters=True, class=True)\u001b[0m\n\u001b[0m                                 ^\u001b[0m\n\u001b[0;31mSyntaxError\u001b[0m\u001b[0;31m:\u001b[0m invalid syntax\n"
     ]
    }
   ],
   "source": [
    "from sklearn.tree import export_graphviz\n",
    "graph_data = export_graphviz(model, out_file=None, \n",
    "                         filled=True, rounded=True,  \n",
    "                         special_characters=True)  \n",
    "graph = graphviz.Source(graph_data)\n",
    "graph"
   ]
  },
  {
   "cell_type": "code",
   "execution_count": null,
   "metadata": {},
   "outputs": [],
   "source": []
  }
 ],
 "metadata": {
  "kernelspec": {
   "display_name": "Python 3",
   "language": "python",
   "name": "python3"
  },
  "language_info": {
   "codemirror_mode": {
    "name": "ipython",
    "version": 3
   },
   "file_extension": ".py",
   "mimetype": "text/x-python",
   "name": "python",
   "nbconvert_exporter": "python",
   "pygments_lexer": "ipython3",
   "version": "3.6.6"
  }
 },
 "nbformat": 4,
 "nbformat_minor": 2
}
